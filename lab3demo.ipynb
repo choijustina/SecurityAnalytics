{
 "cells": [
  {
   "cell_type": "code",
   "execution_count": 1,
   "metadata": {},
   "outputs": [],
   "source": [
    "import pandas as pd"
   ]
  },
  {
   "cell_type": "code",
   "execution_count": 15,
   "metadata": {},
   "outputs": [],
   "source": [
    "pcap1 = pd.read_csv('pcap1.csv', index_col=0)"
   ]
  },
  {
   "cell_type": "code",
   "execution_count": 21,
   "metadata": {},
   "outputs": [
    {
     "data": {
      "text/plain": [
       "10.1.1.1           32\n",
       "10.1.1.97          28\n",
       "10.1.1.255         15\n",
       "224.0.0.252        11\n",
       "255.255.255.255     1\n",
       "Name: dest, dtype: int64"
      ]
     },
     "execution_count": 21,
     "metadata": {},
     "output_type": "execute_result"
    }
   ],
   "source": [
    "pcap1['dest'].value_counts()"
   ]
  },
  {
   "cell_type": "code",
   "execution_count": 25,
   "metadata": {},
   "outputs": [
    {
     "name": "stdout",
     "output_type": "stream",
     "text": [
      "Registration NB CHRIS-LYONS-PC<00>\n",
      "Registration NB CHRIS-LYONS-PC<20>\n",
      "Registration NB WORKGROUP<00>\n",
      "Standard query 0xde83 ANY Chris-Lyons-PC\n",
      "Standard query 0x2933 SRV _ldap._tcp.dc._msdcs.mshome.net\n",
      "Standard query response 0x2933 No such name SRV _ldap._tcp.dc._msdcs.mshome.net\n",
      "Standard query 0x519e SRV _ldap._tcp.dc._msdcs.mshome.net\n",
      "Standard query response 0x519e No such name SRV _ldap._tcp.dc._msdcs.mshome.net\n",
      "Registration NB WORKGROUP<00>\n",
      "Registration NB CHRIS-LYONS-PC<20>\n",
      "Registration NB CHRIS-LYONS-PC<00>\n",
      "Registration NB CHRIS-LYONS-PC<00>\n",
      "Registration NB CHRIS-LYONS-PC<20>\n",
      "Registration NB WORKGROUP<00>\n",
      "Registration NB WORKGROUP<00>\n",
      "Registration NB CHRIS-LYONS-PC<20>\n",
      "Registration NB CHRIS-LYONS-PC<00>\n",
      "Standard query 0xb26b A isatap.mshome.net\n",
      "Standard query response 0xb26b No such name A isatap.mshome.net\n",
      "Standard query 0xc31b ANY Chris-Lyons-PC\n",
      "Standard query 0xc31b ANY Chris-Lyons-PC\n",
      "DHCP Inform   - Transaction ID 0x150a909d\n",
      "Standard query 0x2bf2 A wpad.mshome.net\n",
      "Standard query response 0x2bf2 No such name A wpad.mshome.net\n",
      "Standard query 0xfb72 A wpad\n",
      "Standard query 0xfb72 A wpad\n",
      "Name query NB WPAD<00>\n",
      "Name query NB WPAD<00>\n",
      "Name query NB WPAD<00>\n",
      "Standard query 0x4eeb A www.msftncsi.com\n",
      "Standard query response 0x4eeb A www.msftncsi.com CNAME www.msftncsi.com.edgesuite.net CNAME a1961.g2.akamai.net A 23.43.62.200 A 23.43.62.171\n",
      "Standard query 0x8d25 A www.ellentscm.info\n",
      "Standard query response 0x8d25 A www.ellentscm.info A 162.213.255.172\n",
      "Standard query 0x3869 A www.jvfilmmakers.com\n",
      "Standard query response 0x3869 A www.jvfilmmakers.com CNAME www54.wixdns.net CNAME balancer.wixdns.net CNAME dfn-tgt-us.wixprod.net A 34.233.12.25\n",
      "Standard query 0xffda A www.yunshangcms.com\n",
      "Standard query response 0xffda A www.yunshangcms.com A 47.93.157.247\n",
      "Standard query 0xdfff A dns.msftncsi.com\n",
      "Standard query response 0xdfff A dns.msftncsi.com A 131.107.255.255\n",
      "Standard query 0x5d10 AAAA dns.msftncsi.com\n",
      "Standard query response 0x5d10 AAAA dns.msftncsi.com AAAA fd3e:4f5a:5b81::1\n",
      "Standard query 0xcfcc A www.sparkyoursukha.com\n",
      "Standard query response 0xcfcc A www.sparkyoursukha.com CNAME sparkyoursukha.com A 209.15.20.221\n",
      "Standard query 0xfe74 A www.jufa123.com\n",
      "Standard query response 0xfe74 A www.jufa123.com A 198.105.244.228 A 198.105.254.228\n",
      "Standard query 0x7324 A www.seorowipe.com\n",
      "Standard query response 0x7324 A www.seorowipe.com CNAME seorowipe.com A 198.187.29.22\n",
      "DHCP Request  - Transaction ID 0xa80f516c\n",
      "Standard query 0xb562 ANY Chris-Lyons-PC\n",
      "Standard query 0xb562 ANY Chris-Lyons-PC\n",
      "Standard query 0x3da3 A www.texowipu14.win\n",
      "Standard query response 0x3da3 A www.texowipu14.win CNAME www.hanitrack.com A 69.164.223.38\n",
      "Standard query 0x818e A www.kowollik.email\n",
      "Standard query response 0x818e A www.kowollik.email CNAME kowollik.email A 81.169.145.159\n",
      "Standard query 0xf42c A www.gotrkx.com\n",
      "Standard query response 0xf42c A www.gotrkx.com A 162.255.119.15\n",
      "Standard query 0x7e60 A www.sosssou.com\n",
      "Standard query response 0x7e60 A www.sosssou.com CNAME sosssou.com A 91.216.107.226\n",
      "Standard query 0x688d A www.canamultimedia.com\n",
      "Standard query response 0x688d A www.canamultimedia.com CNAME canamultimedia.com A 175.103.55.71 NS ns1.webpraktis.com NS ns2.webpraktis.com\n",
      "Standard query 0x38e5 A www.100placesbandb.com\n",
      "Standard query response 0x38e5 A www.100placesbandb.com A 198.105.244.228 A 198.105.254.228\n",
      "Standard query 0x8876 A www.cerebrumfriend.info\n",
      "Standard query response 0x8876 A www.cerebrumfriend.info CNAME cerebrumfriend.info A 50.63.202.43 NS ns37.domaincontrol.com NS ns38.domaincontrol.com\n",
      "Standard query 0x9dab A www.gatinhas.net\n",
      "Standard query response 0x9dab A www.gatinhas.net A 103.224.212.222\n",
      "Standard query 0x4fa1 A www.xn--jjq193ajmav75c.com\n",
      "Standard query response 0x4fa1 A www.xn--jjq193ajmav75c.com A 198.105.244.228 A 198.105.254.228\n",
      "Standard query 0x473d A www.heapto.com\n",
      "Standard query 0x473d A www.heapto.com\n",
      "Standard query response 0x473d A www.heapto.com A 64.32.26.89\n",
      "Standard query 0x50ba A dns.msftncsi.com\n",
      "Standard query response 0x50ba A dns.msftncsi.com A 131.107.255.255\n",
      "Standard query 0x4665 AAAA dns.msftncsi.com\n",
      "Standard query response 0x4665 AAAA dns.msftncsi.com AAAA fd3e:4f5a:5b81::1\n",
      "Standard query 0xa4fb A www.yunshangcms.com\n",
      "Standard query response 0xa4fb A www.yunshangcms.com A 47.93.157.247\n",
      "DHCP Request  - Transaction ID 0x91a26000\n",
      "Standard query 0x8cdd ANY Chris-Lyons-PC\n",
      "Standard query 0x8cdd ANY Chris-Lyons-PC\n",
      "Standard query 0x267f A www.heapto.com\n",
      "Standard query response 0x267f A www.heapto.com A 64.32.26.89\n",
      "DHCP Request  - Transaction ID 0xaeebd9d4\n",
      "Standard query 0x64cf ANY Chris-Lyons-PC\n",
      "Standard query 0x64cf ANY Chris-Lyons-PC\n",
      "Standard query 0x15bb A www.yunshangcms.com\n",
      "Standard query response 0x15bb A www.yunshangcms.com A 47.93.157.247\n"
     ]
    }
   ],
   "source": [
    "for x in pcap1['info']:\n",
    "    print(x)"
   ]
  },
  {
   "cell_type": "code",
   "execution_count": 20,
   "metadata": {},
   "outputs": [
    {
     "data": {
      "text/html": [
       "<div>\n",
       "<style scoped>\n",
       "    .dataframe tbody tr th:only-of-type {\n",
       "        vertical-align: middle;\n",
       "    }\n",
       "\n",
       "    .dataframe tbody tr th {\n",
       "        vertical-align: top;\n",
       "    }\n",
       "\n",
       "    .dataframe thead th {\n",
       "        text-align: right;\n",
       "    }\n",
       "</style>\n",
       "<table border=\"1\" class=\"dataframe\">\n",
       "  <thead>\n",
       "    <tr style=\"text-align: right;\">\n",
       "      <th></th>\n",
       "      <th>date</th>\n",
       "      <th>time</th>\n",
       "      <th>source</th>\n",
       "      <th>dest</th>\n",
       "      <th>proto</th>\n",
       "      <th>info</th>\n",
       "    </tr>\n",
       "  </thead>\n",
       "  <tbody>\n",
       "  </tbody>\n",
       "</table>\n",
       "</div>"
      ],
      "text/plain": [
       "Empty DataFrame\n",
       "Columns: [date, time, source, dest, proto, info]\n",
       "Index: []"
      ]
     },
     "execution_count": 20,
     "metadata": {},
     "output_type": "execute_result"
    }
   ],
   "source": [
    "pcap1[pcap1['dest'] == '193.70.45.51']"
   ]
  },
  {
   "cell_type": "code",
   "execution_count": 14,
   "metadata": {},
   "outputs": [],
   "source": [
    "pcap1.to_csv('pcap2.csv')"
   ]
  },
  {
   "cell_type": "code",
   "execution_count": null,
   "metadata": {},
   "outputs": [],
   "source": []
  }
 ],
 "metadata": {
  "kernelspec": {
   "display_name": "Python 3",
   "language": "python",
   "name": "python3"
  },
  "language_info": {
   "codemirror_mode": {
    "name": "ipython",
    "version": 3
   },
   "file_extension": ".py",
   "mimetype": "text/x-python",
   "name": "python",
   "nbconvert_exporter": "python",
   "pygments_lexer": "ipython3",
   "version": "3.6.6"
  }
 },
 "nbformat": 4,
 "nbformat_minor": 2
}
