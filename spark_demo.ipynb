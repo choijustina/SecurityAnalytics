{
 "cells": [
  {
   "cell_type": "code",
   "execution_count": 16,
   "metadata": {},
   "outputs": [],
   "source": [
    "from pyspark import *\n",
    "from pyspark.sql import SparkSession"
   ]
  },
  {
   "cell_type": "markdown",
   "metadata": {},
   "source": [
    "> Apache Spark achieves high performance for both batch and streaming data, using a state-of-the-art DAG scheduler, a query optimizer, and a physical execution engine. "
   ]
  },
  {
   "cell_type": "markdown",
   "metadata": {},
   "source": [
    "# Spark Installation\n",
    "1. Download and install spark here https://spark.apache.org/downloads.html (Can also be installed using ```homebrew install spark``` on a mac\n",
    "2. ```pip install pyspark```\n",
    "\n",
    "Note: These installations assume you have jupyter notebooks with a python3 kernel already installed from the class demo"
   ]
  },
  {
   "cell_type": "markdown",
   "metadata": {},
   "source": [
    "# Spark Context\n",
    "> Spark context sets up internal services and establishes a connection to a Spark execution environment. Once a SparkContext is created you can use it to create RDDs, accumulators and broadcast variables, access Spark services and run jobs (until SparkContext is stopped). A Spark context is essentially a client of Spark’s execution environment and acts as the master of your Spark application (don’t get confused with the other meaning of Master in Spark, though).\n",
    "\n",
    "![](../images/sparkcontext-services.png)\n",
    "\n",
    "Source: https://jaceklaskowski.gitbooks.io/mastering-apache-spark/spark-SparkContext.html"
   ]
  },
  {
   "cell_type": "markdown",
   "metadata": {},
   "source": [
    "# spark DAG\n",
    "> DAG stands for Directed Acyclic Graph. Every time you call .compute() (or in this demo's examples, .show()) the DAG is executed where certain processes are parallelized automatically and completed by separate workers. The spark manager is able to combine the individual task's results into your final computation. \n",
    "\n",
    "![](../images/spark_dag.png)\n"
   ]
  },
  {
   "cell_type": "code",
   "execution_count": 24,
   "metadata": {},
   "outputs": [],
   "source": [
    "# sc = SparkContext()\n",
    "spark = SparkSession(sc)"
   ]
  },
  {
   "cell_type": "code",
   "execution_count": 37,
   "metadata": {},
   "outputs": [],
   "source": [
    "df = spark.read.csv(\"dataset.csv\", inferSchema = True, header = True)"
   ]
  },
  {
   "cell_type": "code",
   "execution_count": 45,
   "metadata": {},
   "outputs": [
    {
     "name": "stdout",
     "output_type": "stream",
     "text": [
      "root\n",
      " |-- URL: string (nullable = true)\n",
      " |-- URL_LENGTH: integer (nullable = true)\n",
      " |-- NUMBER_SPECIAL_CHARACTERS: integer (nullable = true)\n",
      " |-- CHARSET: string (nullable = true)\n",
      " |-- SERVER: string (nullable = true)\n",
      " |-- CONTENT_LENGTH: string (nullable = true)\n",
      " |-- WHOIS_COUNTRY: string (nullable = true)\n",
      " |-- WHOIS_STATEPRO: string (nullable = true)\n",
      " |-- WHOIS_REGDATE: string (nullable = true)\n",
      " |-- WHOIS_UPDATED_DATE: string (nullable = true)\n",
      " |-- TCP_CONVERSATION_EXCHANGE: integer (nullable = true)\n",
      " |-- DIST_REMOTE_TCP_PORT: integer (nullable = true)\n",
      " |-- REMOTE_IPS: integer (nullable = true)\n",
      " |-- APP_BYTES: integer (nullable = true)\n",
      " |-- SOURCE_APP_PACKETS: integer (nullable = true)\n",
      " |-- REMOTE_APP_PACKETS: integer (nullable = true)\n",
      " |-- SOURCE_APP_BYTES: integer (nullable = true)\n",
      " |-- REMOTE_APP_BYTES: integer (nullable = true)\n",
      " |-- APP_PACKETS: integer (nullable = true)\n",
      " |-- DNS_QUERY_TIMES: string (nullable = true)\n",
      " |-- Type: integer (nullable = true)\n",
      "\n"
     ]
    }
   ],
   "source": [
    "df.printSchema()"
   ]
  },
  {
   "cell_type": "code",
   "execution_count": 39,
   "metadata": {},
   "outputs": [
    {
     "name": "stdout",
     "output_type": "stream",
     "text": [
      "+-------+----------+-------------------------+----------+--------------------+--------------+-------------+-------------------+----------------+------------------+-------------------------+--------------------+----------+---------+------------------+------------------+----------------+----------------+-----------+---------------+----+\n",
      "|    URL|URL_LENGTH|NUMBER_SPECIAL_CHARACTERS|   CHARSET|              SERVER|CONTENT_LENGTH|WHOIS_COUNTRY|     WHOIS_STATEPRO|   WHOIS_REGDATE|WHOIS_UPDATED_DATE|TCP_CONVERSATION_EXCHANGE|DIST_REMOTE_TCP_PORT|REMOTE_IPS|APP_BYTES|SOURCE_APP_PACKETS|REMOTE_APP_PACKETS|SOURCE_APP_BYTES|REMOTE_APP_BYTES|APP_PACKETS|DNS_QUERY_TIMES|Type|\n",
      "+-------+----------+-------------------------+----------+--------------------+--------------+-------------+-------------------+----------------+------------------+-------------------------+--------------------+----------+---------+------------------+------------------+----------------+----------------+-----------+---------------+----+\n",
      "| M0_109|        16|                        7|iso-8859-1|               nginx|           263|         None|               None|10/10/2015 18:21|              None|                        7|                   0|         2|      700|                 9|                10|            1153|             832|          9|              2|   1|\n",
      "|B0_2314|        16|                        6|     UTF-8|       Apache/2.4.10|         15087|         None|               None|            None|              None|                       17|                   7|         4|     1230|                17|                19|            1265|            1230|         17|              0|   0|\n",
      "| B0_911|        16|                        6|  us-ascii|Microsoft-HTTPAPI...|           324|         None|               None|            None|              None|                        0|                   0|         0|        0|                 0|                 0|               0|               0|          0|              0|   0|\n",
      "| B0_113|        17|                        6|ISO-8859-1|               nginx|           162|           US|                 AK|  7/10/1997 4:00|   12/09/2013 0:45|                       31|                  22|         3|     3812|                39|                37|           18784|            4380|         39|              8|   0|\n",
      "| B0_403|        17|                        6|     UTF-8|                None|        124140|           US|                 TX| 12/05/1996 0:00|   11/04/2017 0:00|                       57|                   2|         5|     4278|                61|                62|          129889|            4586|         61|              4|   0|\n",
      "|B0_2064|        18|                        7|     UTF-8|               nginx|            NA|           SC|               Mahe| 3/08/2016 14:30|    3/10/2016 3:45|                       11|                   6|         9|      894|                11|                13|             838|             894|         11|              0|   0|\n",
      "| B0_462|        18|                        6|iso-8859-1|            Apache/2|           345|           US|                 CO| 29/07/2002 0:00|    1/07/2016 0:00|                       12|                   0|         3|     1189|                14|                13|            8559|            1327|         14|              2|   0|\n",
      "|B0_1128|        19|                        6|  us-ascii|Microsoft-HTTPAPI...|           324|           US|                 FL| 18/03/1997 0:00|   19/03/2017 0:00|                        0|                   0|         0|        0|                 0|                 0|               0|               0|          0|              0|   0|\n",
      "|  M2_17|        20|                        5|     utf-8|        nginx/1.10.1|            NA|         None|               None|  8/11/2014 7:41|              None|                        0|                   0|         0|        0|                 2|                 3|             213|             146|          2|              2|   1|\n",
      "|  M3_75|        20|                        5|     utf-8|        nginx/1.10.1|            NA|         None|               None|  8/11/2014 7:41|              None|                        0|                   0|         0|        0|                 2|                 1|              62|             146|          2|              2|   1|\n",
      "|B0_1013|        20|                        6|     utf-8|              Apache|            NA|           US|             Kansas| 14/09/2007 0:00|    9/09/2015 0:00|                        0|                   0|         0|        0|                 0|                 0|               0|               0|          0|              0|   0|\n",
      "|B0_1102|        20|                        6|  us-ascii|Microsoft-HTTPAPI...|           324|           US|                 CO| 22/11/2016 0:00|   23/11/2016 0:00|                        0|                   0|         0|        0|                 0|                 0|               0|               0|          0|              0|   0|\n",
      "|  B0_22|        20|                        7|     utf-8|                None|         13716|           GB|               None| 11/10/2002 0:00|    6/10/2016 0:00|                       16|                   6|         8|     1492|                20|                20|            2334|            1784|         20|              4|   0|\n",
      "| B0_482|        20|                        6|ISO-8859-1|               nginx|          3692|         None|               None| 14/11/2002 0:00|   19/04/2015 0:00|                       25|                  19|         4|     3946|                35|                29|           16408|            4746|         35|             10|   0|\n",
      "| B0_869|        20|                        7|ISO-8859-1|Apache/2.2.15 (Re...|         13054|         None|               None|            None|              None|                        0|                   0|         0|        0|                 0|                 0|               0|               0|          0|              0|   0|\n",
      "|  M0_71|        21|                        7|ISO-8859-1|Apache/2.4.23 (Un...|           957|           UK|               None| 16/07/2000 0:00|    4/07/2015 0:00|                        7|                   0|         1|      717|                11|                10|            1960|            1011|         11|              4|   1|\n",
      "|  M0_97|        21|                        7|iso-8859-1|               nginx|           686|           RU|Novosibirskaya obl.| 25/05/2013 0:00|   23/05/2016 0:00|                        6|                   0|         2|      603|                 8|                 9|            1580|             745|          8|              2|   1|\n",
      "|B0_2303|        21|                        6|  us-ascii|Microsoft-HTTPAPI...|           324|         None|               None|  9/08/1999 0:00|   10/02/2015 0:00|                        7|                   7|         3|      618|                 7|                 9|             562|             618|          7|              0|   0|\n",
      "| B0_584|        21|                        6|     utf-8|               nginx|         15025|         None|               None|            None|              None|                       13|                   1|         5|     1099|                15|                17|           15476|            1243|         15|              2|   0|\n",
      "|  M0_69|        22|                        7|  us-ascii|Microsoft-HTTPAPI...|           324|           US|                 CO| 15/09/2013 0:00|   25/02/2017 0:00|                        9|                   0|         4|      850|                11|                 9|            1354|             994|         11|              2|   1|\n",
      "+-------+----------+-------------------------+----------+--------------------+--------------+-------------+-------------------+----------------+------------------+-------------------------+--------------------+----------+---------+------------------+------------------+----------------+----------------+-----------+---------------+----+\n",
      "only showing top 20 rows\n",
      "\n"
     ]
    }
   ],
   "source": [
    "df.show()"
   ]
  },
  {
   "cell_type": "code",
   "execution_count": 40,
   "metadata": {},
   "outputs": [
    {
     "data": {
      "text/plain": [
       "1781"
      ]
     },
     "execution_count": 40,
     "metadata": {},
     "output_type": "execute_result"
    }
   ],
   "source": [
    "df.count()"
   ]
  },
  {
   "cell_type": "code",
   "execution_count": 41,
   "metadata": {},
   "outputs": [
    {
     "name": "stdout",
     "output_type": "stream",
     "text": [
      "+-------+------------------+\n",
      "|summary|    CONTENT_LENGTH|\n",
      "+-------+------------------+\n",
      "|  count|              1781|\n",
      "|   mean|11726.927760577915|\n",
      "| stddev|36391.809050611664|\n",
      "|    min|                 0|\n",
      "|    max|                NA|\n",
      "+-------+------------------+\n",
      "\n"
     ]
    }
   ],
   "source": [
    "df.describe('CONTENT_LENGTH').show()"
   ]
  },
  {
   "cell_type": "markdown",
   "metadata": {},
   "source": [
    "## Filtering by a condition"
   ]
  },
  {
   "cell_type": "code",
   "execution_count": 42,
   "metadata": {},
   "outputs": [
    {
     "name": "stdout",
     "output_type": "stream",
     "text": [
      "+-------+----------+-------------------------+----------+--------------------+--------------+-------------+--------------+----------------+------------------+-------------------------+--------------------+----------+---------+------------------+------------------+----------------+----------------+-----------+---------------+----+\n",
      "|    URL|URL_LENGTH|NUMBER_SPECIAL_CHARACTERS|   CHARSET|              SERVER|CONTENT_LENGTH|WHOIS_COUNTRY|WHOIS_STATEPRO|   WHOIS_REGDATE|WHOIS_UPDATED_DATE|TCP_CONVERSATION_EXCHANGE|DIST_REMOTE_TCP_PORT|REMOTE_IPS|APP_BYTES|SOURCE_APP_PACKETS|REMOTE_APP_PACKETS|SOURCE_APP_BYTES|REMOTE_APP_BYTES|APP_PACKETS|DNS_QUERY_TIMES|Type|\n",
      "+-------+----------+-------------------------+----------+--------------------+--------------+-------------+--------------+----------------+------------------+-------------------------+--------------------+----------+---------+------------------+------------------+----------------+----------------+-----------+---------------+----+\n",
      "| B0_113|        17|                        6|ISO-8859-1|               nginx|           162|           US|            AK|  7/10/1997 4:00|   12/09/2013 0:45|                       31|                  22|         3|     3812|                39|                37|           18784|            4380|         39|              8|   0|\n",
      "| B0_403|        17|                        6|     UTF-8|                None|        124140|           US|            TX| 12/05/1996 0:00|   11/04/2017 0:00|                       57|                   2|         5|     4278|                61|                62|          129889|            4586|         61|              4|   0|\n",
      "| B0_462|        18|                        6|iso-8859-1|            Apache/2|           345|           US|            CO| 29/07/2002 0:00|    1/07/2016 0:00|                       12|                   0|         3|     1189|                14|                13|            8559|            1327|         14|              2|   0|\n",
      "|B0_1128|        19|                        6|  us-ascii|Microsoft-HTTPAPI...|           324|           US|            FL| 18/03/1997 0:00|   19/03/2017 0:00|                        0|                   0|         0|        0|                 0|                 0|               0|               0|          0|              0|   0|\n",
      "|B0_1013|        20|                        6|     utf-8|              Apache|            NA|           US|        Kansas| 14/09/2007 0:00|    9/09/2015 0:00|                        0|                   0|         0|        0|                 0|                 0|               0|               0|          0|              0|   0|\n",
      "|B0_1102|        20|                        6|  us-ascii|Microsoft-HTTPAPI...|           324|           US|            CO| 22/11/2016 0:00|   23/11/2016 0:00|                        0|                   0|         0|        0|                 0|                 0|               0|               0|          0|              0|   0|\n",
      "|  M0_69|        22|                        7|  us-ascii|Microsoft-HTTPAPI...|           324|           US|            CO| 15/09/2013 0:00|   25/02/2017 0:00|                        9|                   0|         4|      850|                11|                 9|            1354|             994|         11|              2|   1|\n",
      "| B0_161|        22|                        6|     utf-8|  openresty/1.11.2.1|            NA|           US|            CA|  3/07/1999 0:00|    7/08/2015 0:00|                       39|                  29|         6|     3833|                43|                42|           22495|            4125|         43|              4|   0|\n",
      "|B0_2122|        22|                        6|iso-8859-1|               nginx|           318|           US|     Tennessee|  2/11/2003 0:00|   29/06/2015 0:00|                        8|                   6|         6|      696|                 8|                10|             636|             696|          8|              0|   0|\n",
      "| B0_601|        22|                        6|     UTF-8|        nginx/1.12.0|            NA|           US|            FL|  1/08/2002 0:00|   22/03/2016 0:00|                        6|                   0|         3|      650|                10|                10|            1417|             950|         10|              4|   0|\n",
      "| B0_884|        22|                        6|ISO-8859-1|              Apache|           441|           US|            OR| 13/01/2005 0:00|    2/03/2017 0:00|                        0|                   0|         0|        0|                 0|                 0|               0|               0|          0|              0|   0|\n",
      "| B0_905|        22|                        6|ISO-8859-1|        nginx/1.12.0|            NA|           US|         Texas|18/05/2005 19:41|  19/05/2016 10:14|                        0|                   0|         0|        0|                 0|                 0|               0|               0|          0|              0|   0|\n",
      "| B0_102|        23|                        6|     utf-8|              Apache|            NA|           US|            FL|28/02/2008 10:58|  14/02/2017 20:27|                       16|                   3|        11|     1696|                18|                20|           13422|            1844|         18|              2|   0|\n",
      "|B0_2217|        23|                        6|ISO-8859-1|                None|          6748|           US|       Arizona| 31/12/1999 0:00|    9/04/2017 0:00|                        7|                   4|         5|      630|                 7|                 4|             244|             630|          7|              0|   0|\n",
      "|  B0_23|        23|                        6|      None|                None|            NA|           US|            TX| 30/07/1996 0:00|    4/07/2016 0:00|                       19|                   7|         6|     2404|                23|                20|            6179|            2684|         23|              4|   0|\n",
      "| B0_285|        23|                        6|     UTF-8|                None|            NA|           US|            WI| 23/04/1999 0:00|   25/07/2016 0:00|                        4|                   0|         1|      519|                 8|                 8|            1138|             823|          8|              4|   0|\n",
      "| B0_465|        23|                        6|     UTF-8|    cloudflare-nginx|            NA|           US|        Oregon|  4/02/1997 0:00|    8/11/2014 0:00|                       10|                   0|         5|     1186|                14|                15|            1900|            1476|         14|              4|   0|\n",
      "| B0_614|        23|                        6|iso-8859-1|              Apache|           240|           US|            CA| 17/05/2008 0:00|   18/05/2016 0:00|                        8|                   0|         2|      723|                10|                11|            1837|             871|         10|              2|   0|\n",
      "| B0_126|        24|                        6|ISO-8859-1|                None|            34|           US|            VA|  5/03/1996 5:00|  27/05/2016 14:46|                       65|                   3|         5|     6286|                69|                75|           90508|            6596|         69|              4|   0|\n",
      "| B0_171|        24|                        7|     utf-8|               nginx|            NA|           US|            NY| 23/03/1995 0:00|    3/03/2017 0:00|                       14|                   6|         6|     1907|                18|                18|            5601|            2171|         18|              4|   0|\n",
      "+-------+----------+-------------------------+----------+--------------------+--------------+-------------+--------------+----------------+------------------+-------------------------+--------------------+----------+---------+------------------+------------------+----------------+----------------+-----------+---------------+----+\n",
      "only showing top 20 rows\n",
      "\n"
     ]
    }
   ],
   "source": [
    "df.filter(df.WHOIS_COUNTRY=='US').show()"
   ]
  },
  {
   "cell_type": "code",
   "execution_count": null,
   "metadata": {},
   "outputs": [],
   "source": []
  },
  {
   "cell_type": "code",
   "execution_count": 79,
   "metadata": {},
   "outputs": [
    {
     "name": "stdout",
     "output_type": "stream",
     "text": [
      "[Row(avg(DNS_QUERY_TIMES)=2.263483146067416)]\n",
      "0.06969118118286133\n"
     ]
    }
   ],
   "source": [
    "import time\n",
    "\n",
    "# Time the process to see how long it takes\n",
    "start = time.time()\n",
    "m = df.agg({'DNS_QUERY_TIMES': 'mean'}).collect()\n",
    "print(m)\n",
    "end = time.time()\n",
    "print(end - start)"
   ]
  },
  {
   "cell_type": "markdown",
   "metadata": {},
   "source": [
    "## Perform groupby and Count"
   ]
  },
  {
   "cell_type": "code",
   "execution_count": 43,
   "metadata": {},
   "outputs": [
    {
     "name": "stdout",
     "output_type": "stream",
     "text": [
      "+--------------+-----+\n",
      "| WHOIS_COUNTRY|count|\n",
      "+--------------+-----+\n",
      "|            SC|    3|\n",
      "|            UA|    2|\n",
      "|            us|    3|\n",
      "|            NL|    6|\n",
      "|            BS|    4|\n",
      "|[u'GB'; u'UK']|    5|\n",
      "|          None|  306|\n",
      "|            CN|   10|\n",
      "|            AT|    4|\n",
      "|            RU|    2|\n",
      "|            CZ|    9|\n",
      "|            KY|    3|\n",
      "|            HK|    3|\n",
      "|            AU|   35|\n",
      "|            PK|    1|\n",
      "|            CA|   84|\n",
      "|            GB|   19|\n",
      "|            BR|    2|\n",
      "|            BY|    1|\n",
      "|            DE|    3|\n",
      "+--------------+-----+\n",
      "only showing top 20 rows\n",
      "\n"
     ]
    }
   ],
   "source": [
    "country_df = df.groupby(\"WHOIS_COUNTRY\")\\\n",
    ".count()\\\n",
    ".show()"
   ]
  },
  {
   "cell_type": "code",
   "execution_count": 49,
   "metadata": {},
   "outputs": [],
   "source": []
  },
  {
   "cell_type": "markdown",
   "metadata": {},
   "source": [
    "## Registering as a Table"
   ]
  },
  {
   "cell_type": "code",
   "execution_count": null,
   "metadata": {},
   "outputs": [],
   "source": [
    "df.registerTempTable('demo_table')"
   ]
  },
  {
   "cell_type": "code",
   "execution_count": 51,
   "metadata": {},
   "outputs": [
    {
     "name": "stdout",
     "output_type": "stream",
     "text": [
      "+--------------+\n",
      "| WHOIS_COUNTRY|\n",
      "+--------------+\n",
      "|            SC|\n",
      "|            UA|\n",
      "|            us|\n",
      "|            NL|\n",
      "|            BS|\n",
      "|[u'GB'; u'UK']|\n",
      "|          None|\n",
      "|            CN|\n",
      "|            AT|\n",
      "|            RU|\n",
      "|            CZ|\n",
      "|            KY|\n",
      "|            HK|\n",
      "|            AU|\n",
      "|            PK|\n",
      "|            CA|\n",
      "|            GB|\n",
      "|            BR|\n",
      "|            BY|\n",
      "|            DE|\n",
      "+--------------+\n",
      "only showing top 20 rows\n",
      "\n"
     ]
    }
   ],
   "source": [
    "spark.sql('select distinct(WHOIS_COUNTRY) from demo_table').show()"
   ]
  },
  {
   "cell_type": "code",
   "execution_count": null,
   "metadata": {},
   "outputs": [],
   "source": []
  }
 ],
 "metadata": {
  "kernelspec": {
   "display_name": "Python 2",
   "language": "python",
   "name": "python2"
  },
  "language_info": {
   "codemirror_mode": {
    "name": "ipython",
    "version": 2
   },
   "file_extension": ".py",
   "mimetype": "text/x-python",
   "name": "python",
   "nbconvert_exporter": "python",
   "pygments_lexer": "ipython2",
   "version": "2.7.12"
  }
 },
 "nbformat": 4,
 "nbformat_minor": 2
}
