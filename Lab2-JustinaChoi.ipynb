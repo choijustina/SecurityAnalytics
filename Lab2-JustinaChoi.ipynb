{
 "cells": [
  {
   "cell_type": "code",
   "execution_count": 1,
   "metadata": {},
   "outputs": [],
   "source": [
    "from pyspark import *\n",
    "from pyspark.sql import SparkSession"
   ]
  },
  {
   "cell_type": "code",
   "execution_count": 2,
   "metadata": {},
   "outputs": [],
   "source": [
    "sc = SparkContext()\n",
    "spark = SparkSession(sc)"
   ]
  },
  {
   "cell_type": "code",
   "execution_count": 10,
   "metadata": {},
   "outputs": [],
   "source": [
    "df = spark.read.csv(\"NUSW-NB15.csv\", inferSchema = True, header = True)"
   ]
  },
  {
   "cell_type": "code",
   "execution_count": 11,
   "metadata": {},
   "outputs": [
    {
     "name": "stdout",
     "output_type": "stream",
     "text": [
      "root\n",
      " |-- _c0: integer (nullable = true)\n",
      " |-- srcip: string (nullable = true)\n",
      " |-- sport: string (nullable = true)\n",
      " |-- dstip: string (nullable = true)\n",
      " |-- dsport: string (nullable = true)\n",
      " |-- proto: string (nullable = true)\n",
      " |-- state: string (nullable = true)\n",
      " |-- dur: double (nullable = true)\n",
      " |-- sbytes: integer (nullable = true)\n",
      " |-- dbytes: integer (nullable = true)\n",
      " |-- sttl: integer (nullable = true)\n",
      " |-- dttl: integer (nullable = true)\n",
      " |-- sloss: integer (nullable = true)\n",
      " |-- dloss: integer (nullable = true)\n",
      " |-- service: string (nullable = true)\n",
      " |-- Sload: double (nullable = true)\n",
      " |-- Dload: double (nullable = true)\n",
      " |-- Spkts: integer (nullable = true)\n",
      " |-- Dpkts: integer (nullable = true)\n",
      " |-- swin: integer (nullable = true)\n",
      " |-- dwin: integer (nullable = true)\n",
      " |-- stcpb: long (nullable = true)\n",
      " |-- dtcpb: long (nullable = true)\n",
      " |-- smeansz: integer (nullable = true)\n",
      " |-- dmeansz: integer (nullable = true)\n",
      " |-- trans_depth: integer (nullable = true)\n",
      " |-- res_bdy_len: integer (nullable = true)\n",
      " |-- Sjit: double (nullable = true)\n",
      " |-- Djit: double (nullable = true)\n",
      " |-- Stime: integer (nullable = true)\n",
      " |-- Ltime: integer (nullable = true)\n",
      " |-- Sintpkt: double (nullable = true)\n",
      " |-- Dintpkt: double (nullable = true)\n",
      " |-- tcprtt: double (nullable = true)\n",
      " |-- synack: double (nullable = true)\n",
      " |-- ackdat: double (nullable = true)\n",
      " |-- is_sm_ips_ports: integer (nullable = true)\n",
      " |-- ct_state_ttl: integer (nullable = true)\n",
      " |-- ct_flw_http_mthd: integer (nullable = true)\n",
      " |-- is_ftp_login: integer (nullable = true)\n",
      " |-- ct_ftp_cmd: integer (nullable = true)\n",
      " |-- ct_srv_src: integer (nullable = true)\n",
      " |-- ct_srv_dst: integer (nullable = true)\n",
      " |-- ct_dst_ltm: integer (nullable = true)\n",
      " |-- ct_src_ ltm: integer (nullable = true)\n",
      " |-- ct_src_dport_ltm: integer (nullable = true)\n",
      " |-- ct_dst_sport_ltm: integer (nullable = true)\n",
      " |-- ct_dst_src_ltm: integer (nullable = true)\n",
      " |-- attack_cat: string (nullable = true)\n",
      " |-- Label: integer (nullable = true)\n",
      "\n"
     ]
    }
   ],
   "source": [
    "df.printSchema()"
   ]
  },
  {
   "cell_type": "code",
   "execution_count": 12,
   "metadata": {},
   "outputs": [
    {
     "data": {
      "text/plain": [
       "700000"
      ]
     },
     "execution_count": 12,
     "metadata": {},
     "output_type": "execute_result"
    }
   ],
   "source": [
    "df.count()"
   ]
  },
  {
   "cell_type": "code",
   "execution_count": 17,
   "metadata": {},
   "outputs": [
    {
     "name": "stdout",
     "output_type": "stream",
     "text": [
      "+------------+-----+\n",
      "|       srcip|count|\n",
      "+------------+-----+\n",
      "|  59.166.0.2|67209|\n",
      "|  59.166.0.0|67127|\n",
      "|  59.166.0.5|67091|\n",
      "|  59.166.0.4|66722|\n",
      "|  59.166.0.1|66587|\n",
      "|  59.166.0.3|66145|\n",
      "|  59.166.0.6|64689|\n",
      "|  59.166.0.8|64640|\n",
      "|  59.166.0.9|64187|\n",
      "|  59.166.0.7|63725|\n",
      "|175.45.176.1|14325|\n",
      "+------------+-----+\n",
      "\n"
     ]
    }
   ],
   "source": [
    "df.groupby(\"srcip\").count().filter(\"`count` >= 10000\").orderBy('count', ascending=False).show()"
   ]
  },
  {
   "cell_type": "code",
   "execution_count": 23,
   "metadata": {},
   "outputs": [
    {
     "name": "stdout",
     "output_type": "stream",
     "text": [
      "+-------------+-----+\n",
      "|        dstip|count|\n",
      "+-------------+-----+\n",
      "|149.171.126.4|67331|\n",
      "|149.171.126.1|66973|\n",
      "|149.171.126.0|66925|\n",
      "|149.171.126.5|66723|\n",
      "|149.171.126.3|66697|\n",
      "|149.171.126.2|66674|\n",
      "|149.171.126.9|65187|\n",
      "|149.171.126.7|64057|\n",
      "|149.171.126.6|63951|\n",
      "|149.171.126.8|63604|\n",
      "+-------------+-----+\n",
      "\n"
     ]
    }
   ],
   "source": [
    "df.groupby(\"dstip\").count().filter(\"`count` >= 10000\").orderBy('count', ascending=False).show()"
   ]
  },
  {
   "cell_type": "code",
   "execution_count": 28,
   "metadata": {},
   "outputs": [
    {
     "name": "stdout",
     "output_type": "stream",
     "text": [
      "+------------+--------------+-----+-----+\n",
      "|       srcip|         dstip|Spkts|Dpkts|\n",
      "+------------+--------------+-----+-----+\n",
      "|  59.166.0.0| 149.171.126.9|    4|    4|\n",
      "|  59.166.0.6| 149.171.126.7|    2|    2|\n",
      "|  59.166.0.5| 149.171.126.5|    2|    2|\n",
      "|  59.166.0.3| 149.171.126.0|    2|    2|\n",
      "|  59.166.0.0| 149.171.126.9|    4|    4|\n",
      "|  59.166.0.6| 149.171.126.4|    2|    2|\n",
      "| 10.40.182.3|   10.40.182.3|    1|    0|\n",
      "|  59.166.0.5| 149.171.126.6|    2|    2|\n",
      "|  59.166.0.7| 149.171.126.4|    2|    2|\n",
      "| 10.40.170.2|   10.40.170.2|    1|    0|\n",
      "| 10.40.170.2|   10.40.170.2|    1|    0|\n",
      "| 10.40.182.3|   10.40.182.3|    1|    0|\n",
      "|  59.166.0.1| 149.171.126.5|    2|    2|\n",
      "|  59.166.0.1| 149.171.126.9|    4|    4|\n",
      "|  59.166.0.1| 149.171.126.6|    4|    4|\n",
      "|  59.166.0.2| 149.171.126.4|    2|    2|\n",
      "|  59.166.0.1| 149.171.126.9|    4|    4|\n",
      "|  59.166.0.1| 149.171.126.6|    4|    4|\n",
      "|  59.166.0.4| 149.171.126.5|    2|    2|\n",
      "|175.45.176.3|149.171.126.18|    2|    0|\n",
      "+------------+--------------+-----+-----+\n",
      "only showing top 20 rows\n",
      "\n"
     ]
    }
   ],
   "source": [
    "df.select('srcip','Spkts','Dpkts').show()"
   ]
  },
  {
   "cell_type": "code",
   "execution_count": 32,
   "metadata": {},
   "outputs": [
    {
     "name": "stdout",
     "output_type": "stream",
     "text": [
      "+--------------+----------+----------+\n",
      "|         srcip|sum(Spkts)|sum(Dpkts)|\n",
      "+--------------+----------+----------+\n",
      "|149.171.126.16|        18|         6|\n",
      "|    59.166.0.5|   2940794|   3963509|\n",
      "|   10.40.170.2|       934|         0|\n",
      "|    59.166.0.8|   2780578|   3697291|\n",
      "|    10.40.85.1|      7460|      1626|\n",
      "|149.171.126.18|     21220|         8|\n",
      "|    59.166.0.3|   2723587|   3552857|\n",
      "| 149.171.126.7|      8714|      5820|\n",
      "|  175.45.176.1|    127322|     66037|\n",
      "|149.171.126.15|        40|        28|\n",
      "| 149.171.126.4|     10436|      6708|\n",
      "|    59.166.0.6|   2839878|   3789330|\n",
      "|    59.166.0.4|   2822000|   3710255|\n",
      "|149.171.126.17|         2|         0|\n",
      "| 149.171.126.2|      9577|      6475|\n",
      "|149.171.126.13|         4|         4|\n",
      "|149.171.126.10|        14|        10|\n",
      "|    59.166.0.1|   2891346|   3883201|\n",
      "| 149.171.126.3|      8741|      6228|\n",
      "|    59.166.0.0|   2912738|   3900524|\n",
      "+--------------+----------+----------+\n",
      "only showing top 20 rows\n",
      "\n"
     ]
    }
   ],
   "source": [
    "srcip = df.select('srcip', 'Spkts', 'Dpkts').groupby('srcip').sum()\n",
    "srcip.show()"
   ]
  },
  {
   "cell_type": "code",
   "execution_count": 33,
   "metadata": {},
   "outputs": [
    {
     "name": "stdout",
     "output_type": "stream",
     "text": [
      "+------------+----------+----------+\n",
      "|       srcip|sum(Spkts)|sum(Dpkts)|\n",
      "+------------+----------+----------+\n",
      "|  59.166.0.2|   2947899|   3968021|\n",
      "|  59.166.0.5|   2940794|   3963509|\n",
      "|  59.166.0.0|   2912738|   3900524|\n",
      "|  59.166.0.9|   2899288|   3955044|\n",
      "|  59.166.0.1|   2891346|   3883201|\n",
      "|  59.166.0.7|   2877707|   3926245|\n",
      "|  59.166.0.6|   2839878|   3789330|\n",
      "|  59.166.0.4|   2822000|   3710255|\n",
      "|  59.166.0.8|   2780578|   3697291|\n",
      "|  59.166.0.3|   2723587|   3552857|\n",
      "|175.45.176.1|    127322|     66037|\n",
      "|175.45.176.2|    119870|     97087|\n",
      "|175.45.176.0|    100482|     73569|\n",
      "+------------+----------+----------+\n",
      "\n"
     ]
    }
   ],
   "source": [
    "srcip.filter(\"`sum(Spkts)` >= 100000\").orderBy('sum(Spkts)', ascending=False).show()"
   ]
  },
  {
   "cell_type": "code",
   "execution_count": null,
   "metadata": {},
   "outputs": [],
   "source": []
  }
 ],
 "metadata": {
  "kernelspec": {
   "display_name": "Python 3",
   "language": "python",
   "name": "python3"
  },
  "language_info": {
   "codemirror_mode": {
    "name": "ipython",
    "version": 3
   },
   "file_extension": ".py",
   "mimetype": "text/x-python",
   "name": "python",
   "nbconvert_exporter": "python",
   "pygments_lexer": "ipython3",
   "version": "3.5.2"
  }
 },
 "nbformat": 4,
 "nbformat_minor": 2
}
