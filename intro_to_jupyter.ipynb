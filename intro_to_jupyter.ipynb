{
 "cells": [
  {
   "cell_type": "markdown",
   "metadata": {
    "slideshow": {
     "slide_type": "slide"
    }
   },
   "source": [
    "# Jupyter for Security Analytics"
   ]
  },
  {
   "cell_type": "markdown",
   "metadata": {
    "slideshow": {
     "slide_type": "slide"
    }
   },
   "source": [
    "## Introduction\n",
    "> The Jupyter Notebook is an open-source web application that allows you to create and share documents that contain live code, equations, visualizations and narrative text. Uses include: data cleaning and transformation, numerical simulation, statistical modeling, data visualization, machine learning, and much more."
   ]
  },
  {
   "cell_type": "markdown",
   "metadata": {
    "slideshow": {
     "slide_type": "slide"
    }
   },
   "source": [
    "Architecture: \n",
    "\n",
    "Note: In Jupyter, a kernel can be thought of a specific language installation. In this tutorial, we will only focus on the python3 jupyter kernel"
   ]
  },
  {
   "cell_type": "markdown",
   "metadata": {
    "slideshow": {
     "slide_type": "subslide"
    }
   },
   "source": [
    "![title](fixtures/images/ipy_kernel_and_terminal.png)\n",
    "![title](fixtures/images/notebook_components.png)"
   ]
  },
  {
   "cell_type": "markdown",
   "metadata": {
    "slideshow": {
     "slide_type": "slide"
    }
   },
   "source": [
    "## Installation\n",
    "https://jupyterlab.readthedocs.io/en/stable/getting_started/installation.html"
   ]
  },
  {
   "cell_type": "markdown",
   "metadata": {
    "slideshow": {
     "slide_type": "slide"
    }
   },
   "source": [
    "### Pip Installation\n",
    "If you have pip on your machine, you can just run ```pip install jupyterlab```"
   ]
  },
  {
   "cell_type": "markdown",
   "metadata": {
    "slideshow": {
     "slide_type": "fragment"
    }
   },
   "source": [
    "### Anaconda installation\n",
    "Usually I just use anaconda to install jupyter and all the python pacakges I need to use. \n",
    "\n",
    "1. The anaconda installation can be found here: https://conda.io/miniconda.html\n",
    "2. Unzip and execute the installer\n",
    "3. Once it is installed, run ```conda install -c conda-forge jupyterlab```"
   ]
  },
  {
   "cell_type": "markdown",
   "metadata": {
    "slideshow": {
     "slide_type": "slide"
    }
   },
   "source": [
    "## Hello World!\n",
    "Open a new terminal and type ```jupyter lab```"
   ]
  },
  {
   "cell_type": "markdown",
   "metadata": {
    "slideshow": {
     "slide_type": "skip"
    }
   },
   "source": [
    "> ➜  lectures git:(lab2) ✗ jupyter lab\n",
    "[I 13:53:50.235 LabApp] JupyterLab beta preview extension loaded from /Users/untitled/anaconda3/lib/python3.6/site-packages/jupyterlab\n",
    "[I 13:53:50.235 LabApp] JupyterLab application directory is /Users/untitled/anaconda3/share/jupyter/lab\n",
    "[I 13:53:50.242 LabApp] Serving notebooks from local directory: /Users/untitled/Documents/School/Security-Analytics/lectures\n",
    "[I 13:53:50.242 LabApp] 0 active kernels\n",
    "[I 13:53:50.242 LabApp] The Jupyter Notebook is running at:\n",
    "[I 13:53:50.242 LabApp] http://localhost:8888/?token=d394c3fb833d33551d0548c3c4222ff22b8429890c485538\n",
    "[I 13:53:50.242 LabApp] Use Control-C to stop this server and shut down all kernels (twice to skip confirmation)."
   ]
  },
  {
   "cell_type": "code",
   "execution_count": 3,
   "metadata": {
    "slideshow": {
     "slide_type": "fragment"
    }
   },
   "outputs": [
    {
     "name": "stdout",
     "output_type": "stream",
     "text": [
      "Hello World!\n"
     ]
    }
   ],
   "source": [
    "print(\"Hello World!\")"
   ]
  },
  {
   "cell_type": "markdown",
   "metadata": {
    "slideshow": {
     "slide_type": "slide"
    }
   },
   "source": [
    "#### Variables and Scope"
   ]
  },
  {
   "cell_type": "code",
   "execution_count": 4,
   "metadata": {
    "slideshow": {
     "slide_type": "fragment"
    }
   },
   "outputs": [],
   "source": [
    "x = 'Variable Replacement'\n",
    "a = 1"
   ]
  },
  {
   "cell_type": "code",
   "execution_count": 5,
   "metadata": {
    "slideshow": {
     "slide_type": "fragment"
    }
   },
   "outputs": [
    {
     "data": {
      "text/plain": [
       "'Variable Scope'"
      ]
     },
     "execution_count": 5,
     "metadata": {},
     "output_type": "execute_result"
    }
   ],
   "source": [
    "x.replace('Replacement','Scope')"
   ]
  },
  {
   "cell_type": "code",
   "execution_count": 6,
   "metadata": {
    "slideshow": {
     "slide_type": "fragment"
    }
   },
   "outputs": [
    {
     "data": {
      "text/plain": [
       "1"
      ]
     },
     "execution_count": 6,
     "metadata": {},
     "output_type": "execute_result"
    }
   ],
   "source": [
    "a"
   ]
  },
  {
   "cell_type": "code",
   "execution_count": 7,
   "metadata": {
    "slideshow": {
     "slide_type": "fragment"
    }
   },
   "outputs": [
    {
     "data": {
      "text/plain": [
       "2"
      ]
     },
     "execution_count": 7,
     "metadata": {},
     "output_type": "execute_result"
    }
   ],
   "source": [
    "a + 1"
   ]
  },
  {
   "cell_type": "code",
   "execution_count": 8,
   "metadata": {
    "slideshow": {
     "slide_type": "fragment"
    }
   },
   "outputs": [],
   "source": [
    "a = a + 10"
   ]
  },
  {
   "cell_type": "code",
   "execution_count": 9,
   "metadata": {
    "slideshow": {
     "slide_type": "fragment"
    }
   },
   "outputs": [
    {
     "data": {
      "text/plain": [
       "11"
      ]
     },
     "execution_count": 9,
     "metadata": {},
     "output_type": "execute_result"
    }
   ],
   "source": [
    "a"
   ]
  },
  {
   "cell_type": "markdown",
   "metadata": {
    "slideshow": {
     "slide_type": "fragment"
    }
   },
   "source": [
    "Note: When you reassign a variable, even if you go back and run previous cells that referenced that variable, it will still be different"
   ]
  },
  {
   "cell_type": "markdown",
   "metadata": {
    "slideshow": {
     "slide_type": "slide"
    }
   },
   "source": [
    "## Pandas"
   ]
  },
  {
   "cell_type": "markdown",
   "metadata": {
    "slideshow": {
     "slide_type": "fragment"
    }
   },
   "source": [
    "> In computer programming, pandas is a software library written for the Python programming language for data manipulation and analysis. In particular, it offers data structures and operations for manipulating numerical tables and time series. \n",
    "\n",
    "Author: http://wesmckinney.com/"
   ]
  },
  {
   "cell_type": "markdown",
   "metadata": {
    "slideshow": {
     "slide_type": "fragment"
    }
   },
   "source": [
    "### Sample dataset\n",
    "https://www.kaggle.com/xwolf12/malicious-and-benign-websites/version/3"
   ]
  },
  {
   "cell_type": "code",
   "execution_count": 10,
   "metadata": {
    "slideshow": {
     "slide_type": "fragment"
    }
   },
   "outputs": [
    {
     "name": "stdout",
     "output_type": "stream",
     "text": [
      "URL,URL_LENGTH,NUMBER_SPECIAL_CHARACTERS,CHARSET,SERVER,CONTENT_LENGTH,WHOIS_COUNTRY,WHOIS_STATEPRO,WHOIS_REGDATE,WHOIS_UPDATED_DATE,TCP_CONVERSATION_EXCHANGE,DIST_REMOTE_TCP_PORT,REMOTE_IPS,APP_BYTES,SOURCE_APP_PACKETS,REMOTE_APP_PACKETS,SOURCE_APP_BYTES,REMOTE_APP_BYTES,APP_PACKETS,DNS_QUERY_TIMES,Type\r\n",
      "M0_109,16,7,iso-8859-1,nginx,263,None,None,10/10/2015 18:21,None,7,0,2,700,9,10,1153,832,9,2,1\r\n"
     ]
    }
   ],
   "source": [
    "!head -n 2 fixtures/datasets/dataset.csv"
   ]
  },
  {
   "cell_type": "code",
   "execution_count": 11,
   "metadata": {
    "slideshow": {
     "slide_type": "slide"
    }
   },
   "outputs": [],
   "source": [
    "import pandas as pd"
   ]
  },
  {
   "cell_type": "code",
   "execution_count": 12,
   "metadata": {
    "slideshow": {
     "slide_type": "fragment"
    }
   },
   "outputs": [],
   "source": [
    "# Read the file in from CSV\n",
    "df = pd.read_csv('fixtures/datasets/dataset.csv')"
   ]
  },
  {
   "cell_type": "code",
   "execution_count": null,
   "metadata": {
    "slideshow": {
     "slide_type": "fragment"
    }
   },
   "outputs": [],
   "source": [
    "# Read the file in from json\n",
    "import json \n",
    "df = pd.read_json(\n",
    "    json.loads(open('fixtures/datasets/dataset.json', 'r').read()),\n",
    "    orient='records'\n",
    ")"
   ]
  },
  {
   "cell_type": "code",
   "execution_count": 13,
   "metadata": {
    "slideshow": {
     "slide_type": "slide"
    }
   },
   "outputs": [
    {
     "data": {
      "text/plain": [
       "URL                           object\n",
       "URL_LENGTH                     int64\n",
       "NUMBER_SPECIAL_CHARACTERS      int64\n",
       "CHARSET                       object\n",
       "SERVER                        object\n",
       "CONTENT_LENGTH               float64\n",
       "WHOIS_COUNTRY                 object\n",
       "WHOIS_STATEPRO                object\n",
       "WHOIS_REGDATE                 object\n",
       "WHOIS_UPDATED_DATE            object\n",
       "TCP_CONVERSATION_EXCHANGE      int64\n",
       "DIST_REMOTE_TCP_PORT           int64\n",
       "REMOTE_IPS                     int64\n",
       "APP_BYTES                      int64\n",
       "SOURCE_APP_PACKETS             int64\n",
       "REMOTE_APP_PACKETS             int64\n",
       "SOURCE_APP_BYTES               int64\n",
       "REMOTE_APP_BYTES               int64\n",
       "APP_PACKETS                    int64\n",
       "DNS_QUERY_TIMES              float64\n",
       "Type                           int64\n",
       "dtype: object"
      ]
     },
     "execution_count": 13,
     "metadata": {},
     "output_type": "execute_result"
    }
   ],
   "source": [
    "# Get a list of the columns and their data types\n",
    "df.dtypes"
   ]
  },
  {
   "cell_type": "code",
   "execution_count": 14,
   "metadata": {
    "slideshow": {
     "slide_type": "slide"
    }
   },
   "outputs": [
    {
     "data": {
      "text/html": [
       "<div>\n",
       "<style scoped>\n",
       "    .dataframe tbody tr th:only-of-type {\n",
       "        vertical-align: middle;\n",
       "    }\n",
       "\n",
       "    .dataframe tbody tr th {\n",
       "        vertical-align: top;\n",
       "    }\n",
       "\n",
       "    .dataframe thead th {\n",
       "        text-align: right;\n",
       "    }\n",
       "</style>\n",
       "<table border=\"1\" class=\"dataframe\">\n",
       "  <thead>\n",
       "    <tr style=\"text-align: right;\">\n",
       "      <th></th>\n",
       "      <th>URL</th>\n",
       "      <th>URL_LENGTH</th>\n",
       "      <th>NUMBER_SPECIAL_CHARACTERS</th>\n",
       "      <th>CHARSET</th>\n",
       "      <th>SERVER</th>\n",
       "      <th>CONTENT_LENGTH</th>\n",
       "      <th>WHOIS_COUNTRY</th>\n",
       "      <th>WHOIS_STATEPRO</th>\n",
       "      <th>WHOIS_REGDATE</th>\n",
       "      <th>WHOIS_UPDATED_DATE</th>\n",
       "      <th>...</th>\n",
       "      <th>DIST_REMOTE_TCP_PORT</th>\n",
       "      <th>REMOTE_IPS</th>\n",
       "      <th>APP_BYTES</th>\n",
       "      <th>SOURCE_APP_PACKETS</th>\n",
       "      <th>REMOTE_APP_PACKETS</th>\n",
       "      <th>SOURCE_APP_BYTES</th>\n",
       "      <th>REMOTE_APP_BYTES</th>\n",
       "      <th>APP_PACKETS</th>\n",
       "      <th>DNS_QUERY_TIMES</th>\n",
       "      <th>Type</th>\n",
       "    </tr>\n",
       "  </thead>\n",
       "  <tbody>\n",
       "    <tr>\n",
       "      <th>0</th>\n",
       "      <td>M0_109</td>\n",
       "      <td>16</td>\n",
       "      <td>7</td>\n",
       "      <td>iso-8859-1</td>\n",
       "      <td>nginx</td>\n",
       "      <td>263.0</td>\n",
       "      <td>None</td>\n",
       "      <td>None</td>\n",
       "      <td>10/10/2015 18:21</td>\n",
       "      <td>None</td>\n",
       "      <td>...</td>\n",
       "      <td>0</td>\n",
       "      <td>2</td>\n",
       "      <td>700</td>\n",
       "      <td>9</td>\n",
       "      <td>10</td>\n",
       "      <td>1153</td>\n",
       "      <td>832</td>\n",
       "      <td>9</td>\n",
       "      <td>2.0</td>\n",
       "      <td>1</td>\n",
       "    </tr>\n",
       "  </tbody>\n",
       "</table>\n",
       "<p>1 rows × 21 columns</p>\n",
       "</div>"
      ],
      "text/plain": [
       "      URL  URL_LENGTH  NUMBER_SPECIAL_CHARACTERS     CHARSET SERVER  \\\n",
       "0  M0_109          16                          7  iso-8859-1  nginx   \n",
       "\n",
       "   CONTENT_LENGTH WHOIS_COUNTRY WHOIS_STATEPRO     WHOIS_REGDATE  \\\n",
       "0           263.0          None           None  10/10/2015 18:21   \n",
       "\n",
       "  WHOIS_UPDATED_DATE  ...   DIST_REMOTE_TCP_PORT  REMOTE_IPS  APP_BYTES  \\\n",
       "0               None  ...                      0           2        700   \n",
       "\n",
       "   SOURCE_APP_PACKETS  REMOTE_APP_PACKETS  SOURCE_APP_BYTES  REMOTE_APP_BYTES  \\\n",
       "0                   9                  10              1153               832   \n",
       "\n",
       "   APP_PACKETS  DNS_QUERY_TIMES  Type  \n",
       "0            9              2.0     1  \n",
       "\n",
       "[1 rows x 21 columns]"
      ]
     },
     "execution_count": 14,
     "metadata": {},
     "output_type": "execute_result"
    }
   ],
   "source": [
    "# View a row in the dataframe\n",
    "df.head(1)"
   ]
  },
  {
   "cell_type": "markdown",
   "metadata": {
    "slideshow": {
     "slide_type": "slide"
    }
   },
   "source": [
    "### DataFrame"
   ]
  },
  {
   "cell_type": "code",
   "execution_count": 16,
   "metadata": {
    "slideshow": {
     "slide_type": "fragment"
    }
   },
   "outputs": [
    {
     "data": {
      "text/html": [
       "<div>\n",
       "<style scoped>\n",
       "    .dataframe tbody tr th:only-of-type {\n",
       "        vertical-align: middle;\n",
       "    }\n",
       "\n",
       "    .dataframe tbody tr th {\n",
       "        vertical-align: top;\n",
       "    }\n",
       "\n",
       "    .dataframe thead th {\n",
       "        text-align: right;\n",
       "    }\n",
       "</style>\n",
       "<table border=\"1\" class=\"dataframe\">\n",
       "  <thead>\n",
       "    <tr style=\"text-align: right;\">\n",
       "      <th></th>\n",
       "      <th>APP_BYTES</th>\n",
       "      <th>APP_PACKETS</th>\n",
       "      <th>CONTENT_LENGTH</th>\n",
       "      <th>DIST_REMOTE_TCP_PORT</th>\n",
       "      <th>DNS_QUERY_TIMES</th>\n",
       "      <th>NUMBER_SPECIAL_CHARACTERS</th>\n",
       "      <th>REMOTE_APP_BYTES</th>\n",
       "      <th>REMOTE_APP_PACKETS</th>\n",
       "      <th>REMOTE_IPS</th>\n",
       "      <th>SOURCE_APP_BYTES</th>\n",
       "      <th>SOURCE_APP_PACKETS</th>\n",
       "      <th>TCP_CONVERSATION_EXCHANGE</th>\n",
       "      <th>Type</th>\n",
       "      <th>URL_LENGTH</th>\n",
       "    </tr>\n",
       "  </thead>\n",
       "  <tbody>\n",
       "    <tr>\n",
       "      <th>count</th>\n",
       "      <td>1.781000e+03</td>\n",
       "      <td>1781.000000</td>\n",
       "      <td>969.000000</td>\n",
       "      <td>1781.000000</td>\n",
       "      <td>1780.000000</td>\n",
       "      <td>1781.000000</td>\n",
       "      <td>1.781000e+03</td>\n",
       "      <td>1781.000000</td>\n",
       "      <td>1781.000000</td>\n",
       "      <td>1.781000e+03</td>\n",
       "      <td>1781.000000</td>\n",
       "      <td>1781.000000</td>\n",
       "      <td>1781.000000</td>\n",
       "      <td>1781.000000</td>\n",
       "    </tr>\n",
       "    <tr>\n",
       "      <th>mean</th>\n",
       "      <td>2.982339e+03</td>\n",
       "      <td>18.540146</td>\n",
       "      <td>11726.927761</td>\n",
       "      <td>5.472768</td>\n",
       "      <td>2.263483</td>\n",
       "      <td>11.111735</td>\n",
       "      <td>3.155599e+03</td>\n",
       "      <td>18.746210</td>\n",
       "      <td>3.060640</td>\n",
       "      <td>1.589255e+04</td>\n",
       "      <td>18.540146</td>\n",
       "      <td>16.261089</td>\n",
       "      <td>0.121280</td>\n",
       "      <td>56.961258</td>\n",
       "    </tr>\n",
       "    <tr>\n",
       "      <th>std</th>\n",
       "      <td>5.605057e+04</td>\n",
       "      <td>41.627173</td>\n",
       "      <td>36391.809051</td>\n",
       "      <td>21.807327</td>\n",
       "      <td>2.930853</td>\n",
       "      <td>4.549896</td>\n",
       "      <td>5.605378e+04</td>\n",
       "      <td>46.397969</td>\n",
       "      <td>3.386975</td>\n",
       "      <td>6.986193e+04</td>\n",
       "      <td>41.627173</td>\n",
       "      <td>40.500975</td>\n",
       "      <td>0.326544</td>\n",
       "      <td>27.555586</td>\n",
       "    </tr>\n",
       "    <tr>\n",
       "      <th>min</th>\n",
       "      <td>0.000000e+00</td>\n",
       "      <td>0.000000</td>\n",
       "      <td>0.000000</td>\n",
       "      <td>0.000000</td>\n",
       "      <td>0.000000</td>\n",
       "      <td>5.000000</td>\n",
       "      <td>0.000000e+00</td>\n",
       "      <td>0.000000</td>\n",
       "      <td>0.000000</td>\n",
       "      <td>0.000000e+00</td>\n",
       "      <td>0.000000</td>\n",
       "      <td>0.000000</td>\n",
       "      <td>0.000000</td>\n",
       "      <td>16.000000</td>\n",
       "    </tr>\n",
       "    <tr>\n",
       "      <th>25%</th>\n",
       "      <td>0.000000e+00</td>\n",
       "      <td>0.000000</td>\n",
       "      <td>324.000000</td>\n",
       "      <td>0.000000</td>\n",
       "      <td>0.000000</td>\n",
       "      <td>8.000000</td>\n",
       "      <td>0.000000e+00</td>\n",
       "      <td>0.000000</td>\n",
       "      <td>0.000000</td>\n",
       "      <td>0.000000e+00</td>\n",
       "      <td>0.000000</td>\n",
       "      <td>0.000000</td>\n",
       "      <td>0.000000</td>\n",
       "      <td>39.000000</td>\n",
       "    </tr>\n",
       "    <tr>\n",
       "      <th>50%</th>\n",
       "      <td>6.720000e+02</td>\n",
       "      <td>8.000000</td>\n",
       "      <td>1853.000000</td>\n",
       "      <td>0.000000</td>\n",
       "      <td>0.000000</td>\n",
       "      <td>10.000000</td>\n",
       "      <td>7.350000e+02</td>\n",
       "      <td>9.000000</td>\n",
       "      <td>2.000000</td>\n",
       "      <td>5.790000e+02</td>\n",
       "      <td>8.000000</td>\n",
       "      <td>7.000000</td>\n",
       "      <td>0.000000</td>\n",
       "      <td>49.000000</td>\n",
       "    </tr>\n",
       "    <tr>\n",
       "      <th>75%</th>\n",
       "      <td>2.328000e+03</td>\n",
       "      <td>26.000000</td>\n",
       "      <td>11323.000000</td>\n",
       "      <td>5.000000</td>\n",
       "      <td>4.000000</td>\n",
       "      <td>13.000000</td>\n",
       "      <td>2.701000e+03</td>\n",
       "      <td>25.000000</td>\n",
       "      <td>5.000000</td>\n",
       "      <td>9.806000e+03</td>\n",
       "      <td>26.000000</td>\n",
       "      <td>22.000000</td>\n",
       "      <td>0.000000</td>\n",
       "      <td>68.000000</td>\n",
       "    </tr>\n",
       "    <tr>\n",
       "      <th>max</th>\n",
       "      <td>2.362906e+06</td>\n",
       "      <td>1198.000000</td>\n",
       "      <td>649263.000000</td>\n",
       "      <td>708.000000</td>\n",
       "      <td>20.000000</td>\n",
       "      <td>43.000000</td>\n",
       "      <td>2.362906e+06</td>\n",
       "      <td>1284.000000</td>\n",
       "      <td>17.000000</td>\n",
       "      <td>2.060012e+06</td>\n",
       "      <td>1198.000000</td>\n",
       "      <td>1194.000000</td>\n",
       "      <td>1.000000</td>\n",
       "      <td>249.000000</td>\n",
       "    </tr>\n",
       "  </tbody>\n",
       "</table>\n",
       "</div>"
      ],
      "text/plain": [
       "          APP_BYTES  APP_PACKETS  CONTENT_LENGTH  DIST_REMOTE_TCP_PORT  \\\n",
       "count  1.781000e+03  1781.000000      969.000000           1781.000000   \n",
       "mean   2.982339e+03    18.540146    11726.927761              5.472768   \n",
       "std    5.605057e+04    41.627173    36391.809051             21.807327   \n",
       "min    0.000000e+00     0.000000        0.000000              0.000000   \n",
       "25%    0.000000e+00     0.000000      324.000000              0.000000   \n",
       "50%    6.720000e+02     8.000000     1853.000000              0.000000   \n",
       "75%    2.328000e+03    26.000000    11323.000000              5.000000   \n",
       "max    2.362906e+06  1198.000000   649263.000000            708.000000   \n",
       "\n",
       "       DNS_QUERY_TIMES  NUMBER_SPECIAL_CHARACTERS  REMOTE_APP_BYTES  \\\n",
       "count      1780.000000                1781.000000      1.781000e+03   \n",
       "mean          2.263483                  11.111735      3.155599e+03   \n",
       "std           2.930853                   4.549896      5.605378e+04   \n",
       "min           0.000000                   5.000000      0.000000e+00   \n",
       "25%           0.000000                   8.000000      0.000000e+00   \n",
       "50%           0.000000                  10.000000      7.350000e+02   \n",
       "75%           4.000000                  13.000000      2.701000e+03   \n",
       "max          20.000000                  43.000000      2.362906e+06   \n",
       "\n",
       "       REMOTE_APP_PACKETS   REMOTE_IPS  SOURCE_APP_BYTES  SOURCE_APP_PACKETS  \\\n",
       "count         1781.000000  1781.000000      1.781000e+03         1781.000000   \n",
       "mean            18.746210     3.060640      1.589255e+04           18.540146   \n",
       "std             46.397969     3.386975      6.986193e+04           41.627173   \n",
       "min              0.000000     0.000000      0.000000e+00            0.000000   \n",
       "25%              0.000000     0.000000      0.000000e+00            0.000000   \n",
       "50%              9.000000     2.000000      5.790000e+02            8.000000   \n",
       "75%             25.000000     5.000000      9.806000e+03           26.000000   \n",
       "max           1284.000000    17.000000      2.060012e+06         1198.000000   \n",
       "\n",
       "       TCP_CONVERSATION_EXCHANGE         Type   URL_LENGTH  \n",
       "count                1781.000000  1781.000000  1781.000000  \n",
       "mean                   16.261089     0.121280    56.961258  \n",
       "std                    40.500975     0.326544    27.555586  \n",
       "min                     0.000000     0.000000    16.000000  \n",
       "25%                     0.000000     0.000000    39.000000  \n",
       "50%                     7.000000     0.000000    49.000000  \n",
       "75%                    22.000000     0.000000    68.000000  \n",
       "max                  1194.000000     1.000000   249.000000  "
      ]
     },
     "execution_count": 16,
     "metadata": {},
     "output_type": "execute_result"
    }
   ],
   "source": [
    "df.describe()"
   ]
  },
  {
   "cell_type": "code",
   "execution_count": 17,
   "metadata": {
    "slideshow": {
     "slide_type": "fragment"
    }
   },
   "outputs": [
    {
     "data": {
      "text/plain": [
       "1781"
      ]
     },
     "execution_count": 17,
     "metadata": {},
     "output_type": "execute_result"
    }
   ],
   "source": [
    "# Size of the dataset\n",
    "len(df)"
   ]
  },
  {
   "cell_type": "code",
   "execution_count": 18,
   "metadata": {
    "slideshow": {
     "slide_type": "slide"
    }
   },
   "outputs": [
    {
     "data": {
      "text/plain": [
       "0     M0_109\n",
       "1    B0_2314\n",
       "2     B0_911\n",
       "3     B0_113\n",
       "4     B0_403\n",
       "Name: URL, dtype: object"
      ]
     },
     "execution_count": 18,
     "metadata": {},
     "output_type": "execute_result"
    }
   ],
   "source": [
    "# First five items of the 'URL' column\n",
    "df['URL'].head(5)"
   ]
  },
  {
   "cell_type": "code",
   "execution_count": 19,
   "metadata": {
    "slideshow": {
     "slide_type": "fragment"
    }
   },
   "outputs": [
    {
     "data": {
      "text/html": [
       "<div>\n",
       "<style scoped>\n",
       "    .dataframe tbody tr th:only-of-type {\n",
       "        vertical-align: middle;\n",
       "    }\n",
       "\n",
       "    .dataframe tbody tr th {\n",
       "        vertical-align: top;\n",
       "    }\n",
       "\n",
       "    .dataframe thead th {\n",
       "        text-align: right;\n",
       "    }\n",
       "</style>\n",
       "<table border=\"1\" class=\"dataframe\">\n",
       "  <thead>\n",
       "    <tr style=\"text-align: right;\">\n",
       "      <th></th>\n",
       "      <th>APP_BYTES</th>\n",
       "      <th>APP_PACKETS</th>\n",
       "      <th>CHARSET</th>\n",
       "      <th>CONTENT_LENGTH</th>\n",
       "      <th>DIST_REMOTE_TCP_PORT</th>\n",
       "      <th>DNS_QUERY_TIMES</th>\n",
       "      <th>NUMBER_SPECIAL_CHARACTERS</th>\n",
       "      <th>REMOTE_APP_BYTES</th>\n",
       "      <th>REMOTE_APP_PACKETS</th>\n",
       "      <th>REMOTE_IPS</th>\n",
       "      <th>SERVER</th>\n",
       "      <th>SOURCE_APP_BYTES</th>\n",
       "      <th>SOURCE_APP_PACKETS</th>\n",
       "      <th>TCP_CONVERSATION_EXCHANGE</th>\n",
       "      <th>Type</th>\n",
       "      <th>URL_LENGTH</th>\n",
       "      <th>WHOIS_COUNTRY</th>\n",
       "      <th>WHOIS_REGDATE</th>\n",
       "      <th>WHOIS_STATEPRO</th>\n",
       "      <th>WHOIS_UPDATED_DATE</th>\n",
       "    </tr>\n",
       "  </thead>\n",
       "  <tbody>\n",
       "    <tr>\n",
       "      <th>0</th>\n",
       "      <td>700</td>\n",
       "      <td>9</td>\n",
       "      <td>iso-8859-1</td>\n",
       "      <td>263.0</td>\n",
       "      <td>0</td>\n",
       "      <td>2.0</td>\n",
       "      <td>7</td>\n",
       "      <td>832</td>\n",
       "      <td>10</td>\n",
       "      <td>2</td>\n",
       "      <td>nginx</td>\n",
       "      <td>1153</td>\n",
       "      <td>9</td>\n",
       "      <td>7</td>\n",
       "      <td>1</td>\n",
       "      <td>16</td>\n",
       "      <td>None</td>\n",
       "      <td>10/10/2015 18:21</td>\n",
       "      <td>None</td>\n",
       "      <td>None</td>\n",
       "    </tr>\n",
       "    <tr>\n",
       "      <th>1</th>\n",
       "      <td>1230</td>\n",
       "      <td>17</td>\n",
       "      <td>UTF-8</td>\n",
       "      <td>15087.0</td>\n",
       "      <td>7</td>\n",
       "      <td>0.0</td>\n",
       "      <td>6</td>\n",
       "      <td>1230</td>\n",
       "      <td>19</td>\n",
       "      <td>4</td>\n",
       "      <td>Apache/2.4.10</td>\n",
       "      <td>1265</td>\n",
       "      <td>17</td>\n",
       "      <td>17</td>\n",
       "      <td>0</td>\n",
       "      <td>16</td>\n",
       "      <td>None</td>\n",
       "      <td>None</td>\n",
       "      <td>None</td>\n",
       "      <td>None</td>\n",
       "    </tr>\n",
       "    <tr>\n",
       "      <th>2</th>\n",
       "      <td>0</td>\n",
       "      <td>0</td>\n",
       "      <td>us-ascii</td>\n",
       "      <td>324.0</td>\n",
       "      <td>0</td>\n",
       "      <td>0.0</td>\n",
       "      <td>6</td>\n",
       "      <td>0</td>\n",
       "      <td>0</td>\n",
       "      <td>0</td>\n",
       "      <td>Microsoft-HTTPAPI/2.0</td>\n",
       "      <td>0</td>\n",
       "      <td>0</td>\n",
       "      <td>0</td>\n",
       "      <td>0</td>\n",
       "      <td>16</td>\n",
       "      <td>None</td>\n",
       "      <td>None</td>\n",
       "      <td>None</td>\n",
       "      <td>None</td>\n",
       "    </tr>\n",
       "    <tr>\n",
       "      <th>3</th>\n",
       "      <td>3812</td>\n",
       "      <td>39</td>\n",
       "      <td>ISO-8859-1</td>\n",
       "      <td>162.0</td>\n",
       "      <td>22</td>\n",
       "      <td>8.0</td>\n",
       "      <td>6</td>\n",
       "      <td>4380</td>\n",
       "      <td>37</td>\n",
       "      <td>3</td>\n",
       "      <td>nginx</td>\n",
       "      <td>18784</td>\n",
       "      <td>39</td>\n",
       "      <td>31</td>\n",
       "      <td>0</td>\n",
       "      <td>17</td>\n",
       "      <td>US</td>\n",
       "      <td>7/10/1997 4:00</td>\n",
       "      <td>AK</td>\n",
       "      <td>12/09/2013 0:45</td>\n",
       "    </tr>\n",
       "    <tr>\n",
       "      <th>4</th>\n",
       "      <td>4278</td>\n",
       "      <td>61</td>\n",
       "      <td>UTF-8</td>\n",
       "      <td>124140.0</td>\n",
       "      <td>2</td>\n",
       "      <td>4.0</td>\n",
       "      <td>6</td>\n",
       "      <td>4586</td>\n",
       "      <td>62</td>\n",
       "      <td>5</td>\n",
       "      <td>None</td>\n",
       "      <td>129889</td>\n",
       "      <td>61</td>\n",
       "      <td>57</td>\n",
       "      <td>0</td>\n",
       "      <td>17</td>\n",
       "      <td>US</td>\n",
       "      <td>12/05/1996 0:00</td>\n",
       "      <td>TX</td>\n",
       "      <td>11/04/2017 0:00</td>\n",
       "    </tr>\n",
       "  </tbody>\n",
       "</table>\n",
       "</div>"
      ],
      "text/plain": [
       "   APP_BYTES  APP_PACKETS     CHARSET  CONTENT_LENGTH  DIST_REMOTE_TCP_PORT  \\\n",
       "0        700            9  iso-8859-1           263.0                     0   \n",
       "1       1230           17       UTF-8         15087.0                     7   \n",
       "2          0            0    us-ascii           324.0                     0   \n",
       "3       3812           39  ISO-8859-1           162.0                    22   \n",
       "4       4278           61       UTF-8        124140.0                     2   \n",
       "\n",
       "   DNS_QUERY_TIMES  NUMBER_SPECIAL_CHARACTERS  REMOTE_APP_BYTES  \\\n",
       "0              2.0                          7               832   \n",
       "1              0.0                          6              1230   \n",
       "2              0.0                          6                 0   \n",
       "3              8.0                          6              4380   \n",
       "4              4.0                          6              4586   \n",
       "\n",
       "   REMOTE_APP_PACKETS  REMOTE_IPS                 SERVER  SOURCE_APP_BYTES  \\\n",
       "0                  10           2                  nginx              1153   \n",
       "1                  19           4          Apache/2.4.10              1265   \n",
       "2                   0           0  Microsoft-HTTPAPI/2.0                 0   \n",
       "3                  37           3                  nginx             18784   \n",
       "4                  62           5                   None            129889   \n",
       "\n",
       "   SOURCE_APP_PACKETS  TCP_CONVERSATION_EXCHANGE  Type  URL_LENGTH  \\\n",
       "0                   9                          7     1          16   \n",
       "1                  17                         17     0          16   \n",
       "2                   0                          0     0          16   \n",
       "3                  39                         31     0          17   \n",
       "4                  61                         57     0          17   \n",
       "\n",
       "  WHOIS_COUNTRY     WHOIS_REGDATE WHOIS_STATEPRO WHOIS_UPDATED_DATE  \n",
       "0          None  10/10/2015 18:21           None               None  \n",
       "1          None              None           None               None  \n",
       "2          None              None           None               None  \n",
       "3            US    7/10/1997 4:00             AK    12/09/2013 0:45  \n",
       "4            US   12/05/1996 0:00             TX    11/04/2017 0:00  "
      ]
     },
     "execution_count": 19,
     "metadata": {},
     "output_type": "execute_result"
    }
   ],
   "source": [
    "# Dropping a column\n",
    "df.drop('URL', axis=1).head(5)"
   ]
  },
  {
   "cell_type": "code",
   "execution_count": 20,
   "metadata": {
    "slideshow": {
     "slide_type": "slide"
    }
   },
   "outputs": [
    {
     "data": {
      "text/plain": [
       "US      1103\n",
       "None     306\n",
       "CA        84\n",
       "ES        63\n",
       "AU        35\n",
       "Name: WHOIS_COUNTRY, dtype: int64"
      ]
     },
     "execution_count": 20,
     "metadata": {},
     "output_type": "execute_result"
    }
   ],
   "source": [
    "# Count of entries in a column\n",
    "df['WHOIS_COUNTRY'].value_counts().head(5)"
   ]
  },
  {
   "cell_type": "code",
   "execution_count": 21,
   "metadata": {
    "slideshow": {
     "slide_type": "fragment"
    }
   },
   "outputs": [
    {
     "data": {
      "text/html": [
       "<div>\n",
       "<style scoped>\n",
       "    .dataframe tbody tr th:only-of-type {\n",
       "        vertical-align: middle;\n",
       "    }\n",
       "\n",
       "    .dataframe tbody tr th {\n",
       "        vertical-align: top;\n",
       "    }\n",
       "\n",
       "    .dataframe thead th {\n",
       "        text-align: right;\n",
       "    }\n",
       "</style>\n",
       "<table border=\"1\" class=\"dataframe\">\n",
       "  <thead>\n",
       "    <tr style=\"text-align: right;\">\n",
       "      <th></th>\n",
       "      <th>APP_BYTES</th>\n",
       "      <th>APP_PACKETS</th>\n",
       "      <th>CHARSET</th>\n",
       "      <th>CONTENT_LENGTH</th>\n",
       "      <th>DIST_REMOTE_TCP_PORT</th>\n",
       "      <th>DNS_QUERY_TIMES</th>\n",
       "      <th>NUMBER_SPECIAL_CHARACTERS</th>\n",
       "      <th>REMOTE_APP_BYTES</th>\n",
       "      <th>REMOTE_APP_PACKETS</th>\n",
       "      <th>REMOTE_IPS</th>\n",
       "      <th>...</th>\n",
       "      <th>SOURCE_APP_BYTES</th>\n",
       "      <th>SOURCE_APP_PACKETS</th>\n",
       "      <th>TCP_CONVERSATION_EXCHANGE</th>\n",
       "      <th>Type</th>\n",
       "      <th>URL</th>\n",
       "      <th>URL_LENGTH</th>\n",
       "      <th>WHOIS_COUNTRY</th>\n",
       "      <th>WHOIS_REGDATE</th>\n",
       "      <th>WHOIS_STATEPRO</th>\n",
       "      <th>WHOIS_UPDATED_DATE</th>\n",
       "    </tr>\n",
       "  </thead>\n",
       "  <tbody>\n",
       "    <tr>\n",
       "      <th>3</th>\n",
       "      <td>3812</td>\n",
       "      <td>39</td>\n",
       "      <td>ISO-8859-1</td>\n",
       "      <td>162.0</td>\n",
       "      <td>22</td>\n",
       "      <td>8.0</td>\n",
       "      <td>6</td>\n",
       "      <td>4380</td>\n",
       "      <td>37</td>\n",
       "      <td>3</td>\n",
       "      <td>...</td>\n",
       "      <td>18784</td>\n",
       "      <td>39</td>\n",
       "      <td>31</td>\n",
       "      <td>0</td>\n",
       "      <td>B0_113</td>\n",
       "      <td>17</td>\n",
       "      <td>US</td>\n",
       "      <td>7/10/1997 4:00</td>\n",
       "      <td>AK</td>\n",
       "      <td>12/09/2013 0:45</td>\n",
       "    </tr>\n",
       "    <tr>\n",
       "      <th>4</th>\n",
       "      <td>4278</td>\n",
       "      <td>61</td>\n",
       "      <td>UTF-8</td>\n",
       "      <td>124140.0</td>\n",
       "      <td>2</td>\n",
       "      <td>4.0</td>\n",
       "      <td>6</td>\n",
       "      <td>4586</td>\n",
       "      <td>62</td>\n",
       "      <td>5</td>\n",
       "      <td>...</td>\n",
       "      <td>129889</td>\n",
       "      <td>61</td>\n",
       "      <td>57</td>\n",
       "      <td>0</td>\n",
       "      <td>B0_403</td>\n",
       "      <td>17</td>\n",
       "      <td>US</td>\n",
       "      <td>12/05/1996 0:00</td>\n",
       "      <td>TX</td>\n",
       "      <td>11/04/2017 0:00</td>\n",
       "    </tr>\n",
       "    <tr>\n",
       "      <th>6</th>\n",
       "      <td>1189</td>\n",
       "      <td>14</td>\n",
       "      <td>iso-8859-1</td>\n",
       "      <td>345.0</td>\n",
       "      <td>0</td>\n",
       "      <td>2.0</td>\n",
       "      <td>6</td>\n",
       "      <td>1327</td>\n",
       "      <td>13</td>\n",
       "      <td>3</td>\n",
       "      <td>...</td>\n",
       "      <td>8559</td>\n",
       "      <td>14</td>\n",
       "      <td>12</td>\n",
       "      <td>0</td>\n",
       "      <td>B0_462</td>\n",
       "      <td>18</td>\n",
       "      <td>US</td>\n",
       "      <td>29/07/2002 0:00</td>\n",
       "      <td>CO</td>\n",
       "      <td>1/07/2016 0:00</td>\n",
       "    </tr>\n",
       "    <tr>\n",
       "      <th>7</th>\n",
       "      <td>0</td>\n",
       "      <td>0</td>\n",
       "      <td>us-ascii</td>\n",
       "      <td>324.0</td>\n",
       "      <td>0</td>\n",
       "      <td>0.0</td>\n",
       "      <td>6</td>\n",
       "      <td>0</td>\n",
       "      <td>0</td>\n",
       "      <td>0</td>\n",
       "      <td>...</td>\n",
       "      <td>0</td>\n",
       "      <td>0</td>\n",
       "      <td>0</td>\n",
       "      <td>0</td>\n",
       "      <td>B0_1128</td>\n",
       "      <td>19</td>\n",
       "      <td>US</td>\n",
       "      <td>18/03/1997 0:00</td>\n",
       "      <td>FL</td>\n",
       "      <td>19/03/2017 0:00</td>\n",
       "    </tr>\n",
       "    <tr>\n",
       "      <th>10</th>\n",
       "      <td>0</td>\n",
       "      <td>0</td>\n",
       "      <td>utf-8</td>\n",
       "      <td>NaN</td>\n",
       "      <td>0</td>\n",
       "      <td>0.0</td>\n",
       "      <td>6</td>\n",
       "      <td>0</td>\n",
       "      <td>0</td>\n",
       "      <td>0</td>\n",
       "      <td>...</td>\n",
       "      <td>0</td>\n",
       "      <td>0</td>\n",
       "      <td>0</td>\n",
       "      <td>0</td>\n",
       "      <td>B0_1013</td>\n",
       "      <td>20</td>\n",
       "      <td>US</td>\n",
       "      <td>14/09/2007 0:00</td>\n",
       "      <td>Kansas</td>\n",
       "      <td>9/09/2015 0:00</td>\n",
       "    </tr>\n",
       "  </tbody>\n",
       "</table>\n",
       "<p>5 rows × 21 columns</p>\n",
       "</div>"
      ],
      "text/plain": [
       "    APP_BYTES  APP_PACKETS     CHARSET  CONTENT_LENGTH  DIST_REMOTE_TCP_PORT  \\\n",
       "3        3812           39  ISO-8859-1           162.0                    22   \n",
       "4        4278           61       UTF-8        124140.0                     2   \n",
       "6        1189           14  iso-8859-1           345.0                     0   \n",
       "7           0            0    us-ascii           324.0                     0   \n",
       "10          0            0       utf-8             NaN                     0   \n",
       "\n",
       "    DNS_QUERY_TIMES  NUMBER_SPECIAL_CHARACTERS  REMOTE_APP_BYTES  \\\n",
       "3               8.0                          6              4380   \n",
       "4               4.0                          6              4586   \n",
       "6               2.0                          6              1327   \n",
       "7               0.0                          6                 0   \n",
       "10              0.0                          6                 0   \n",
       "\n",
       "    REMOTE_APP_PACKETS  REMOTE_IPS        ...         SOURCE_APP_BYTES  \\\n",
       "3                   37           3        ...                    18784   \n",
       "4                   62           5        ...                   129889   \n",
       "6                   13           3        ...                     8559   \n",
       "7                    0           0        ...                        0   \n",
       "10                   0           0        ...                        0   \n",
       "\n",
       "    SOURCE_APP_PACKETS  TCP_CONVERSATION_EXCHANGE  Type      URL URL_LENGTH  \\\n",
       "3                   39                         31     0   B0_113         17   \n",
       "4                   61                         57     0   B0_403         17   \n",
       "6                   14                         12     0   B0_462         18   \n",
       "7                    0                          0     0  B0_1128         19   \n",
       "10                   0                          0     0  B0_1013         20   \n",
       "\n",
       "    WHOIS_COUNTRY    WHOIS_REGDATE WHOIS_STATEPRO WHOIS_UPDATED_DATE  \n",
       "3              US   7/10/1997 4:00             AK    12/09/2013 0:45  \n",
       "4              US  12/05/1996 0:00             TX    11/04/2017 0:00  \n",
       "6              US  29/07/2002 0:00             CO     1/07/2016 0:00  \n",
       "7              US  18/03/1997 0:00             FL    19/03/2017 0:00  \n",
       "10             US  14/09/2007 0:00         Kansas     9/09/2015 0:00  \n",
       "\n",
       "[5 rows x 21 columns]"
      ]
     },
     "execution_count": 21,
     "metadata": {},
     "output_type": "execute_result"
    }
   ],
   "source": [
    "# Select rows where a column is a certain value\n",
    "df.loc[df['WHOIS_COUNTRY'] == 'US'].head(5)"
   ]
  },
  {
   "cell_type": "code",
   "execution_count": 22,
   "metadata": {
    "slideshow": {
     "slide_type": "slide"
    }
   },
   "outputs": [
    {
     "data": {
      "text/html": [
       "<div>\n",
       "<style scoped>\n",
       "    .dataframe tbody tr th:only-of-type {\n",
       "        vertical-align: middle;\n",
       "    }\n",
       "\n",
       "    .dataframe tbody tr th {\n",
       "        vertical-align: top;\n",
       "    }\n",
       "\n",
       "    .dataframe thead th {\n",
       "        text-align: right;\n",
       "    }\n",
       "</style>\n",
       "<table border=\"1\" class=\"dataframe\">\n",
       "  <thead>\n",
       "    <tr style=\"text-align: right;\">\n",
       "      <th></th>\n",
       "      <th>APP_BYTES</th>\n",
       "      <th>APP_PACKETS</th>\n",
       "      <th>CHARSET</th>\n",
       "      <th>CONTENT_LENGTH</th>\n",
       "      <th>DIST_REMOTE_TCP_PORT</th>\n",
       "      <th>DNS_QUERY_TIMES</th>\n",
       "      <th>NUMBER_SPECIAL_CHARACTERS</th>\n",
       "      <th>REMOTE_APP_BYTES</th>\n",
       "      <th>REMOTE_APP_PACKETS</th>\n",
       "      <th>REMOTE_IPS</th>\n",
       "      <th>...</th>\n",
       "      <th>SOURCE_APP_BYTES</th>\n",
       "      <th>SOURCE_APP_PACKETS</th>\n",
       "      <th>TCP_CONVERSATION_EXCHANGE</th>\n",
       "      <th>Type</th>\n",
       "      <th>URL</th>\n",
       "      <th>URL_LENGTH</th>\n",
       "      <th>WHOIS_COUNTRY</th>\n",
       "      <th>WHOIS_REGDATE</th>\n",
       "      <th>WHOIS_STATEPRO</th>\n",
       "      <th>WHOIS_UPDATED_DATE</th>\n",
       "    </tr>\n",
       "  </thead>\n",
       "  <tbody>\n",
       "    <tr>\n",
       "      <th>3</th>\n",
       "      <td>3812</td>\n",
       "      <td>39</td>\n",
       "      <td>ISO-8859-1</td>\n",
       "      <td>162.0</td>\n",
       "      <td>22</td>\n",
       "      <td>8.0</td>\n",
       "      <td>6</td>\n",
       "      <td>4380</td>\n",
       "      <td>37</td>\n",
       "      <td>3</td>\n",
       "      <td>...</td>\n",
       "      <td>18784</td>\n",
       "      <td>39</td>\n",
       "      <td>31</td>\n",
       "      <td>0</td>\n",
       "      <td>B0_113</td>\n",
       "      <td>17</td>\n",
       "      <td>US</td>\n",
       "      <td>7/10/1997 4:00</td>\n",
       "      <td>AK</td>\n",
       "      <td>12/09/2013 0:45</td>\n",
       "    </tr>\n",
       "    <tr>\n",
       "      <th>720</th>\n",
       "      <td>5308</td>\n",
       "      <td>54</td>\n",
       "      <td>utf-8</td>\n",
       "      <td>636.0</td>\n",
       "      <td>22</td>\n",
       "      <td>8.0</td>\n",
       "      <td>10</td>\n",
       "      <td>5902</td>\n",
       "      <td>51</td>\n",
       "      <td>8</td>\n",
       "      <td>...</td>\n",
       "      <td>40052</td>\n",
       "      <td>54</td>\n",
       "      <td>46</td>\n",
       "      <td>0</td>\n",
       "      <td>B0_541</td>\n",
       "      <td>45</td>\n",
       "      <td>US</td>\n",
       "      <td>18/01/1995 0:00</td>\n",
       "      <td>CA</td>\n",
       "      <td>26/08/2015 0:00</td>\n",
       "    </tr>\n",
       "    <tr>\n",
       "      <th>943</th>\n",
       "      <td>4677</td>\n",
       "      <td>41</td>\n",
       "      <td>UTF-8</td>\n",
       "      <td>NaN</td>\n",
       "      <td>22</td>\n",
       "      <td>6.0</td>\n",
       "      <td>10</td>\n",
       "      <td>5093</td>\n",
       "      <td>33</td>\n",
       "      <td>11</td>\n",
       "      <td>...</td>\n",
       "      <td>14310</td>\n",
       "      <td>41</td>\n",
       "      <td>35</td>\n",
       "      <td>0</td>\n",
       "      <td>B0_435</td>\n",
       "      <td>51</td>\n",
       "      <td>US</td>\n",
       "      <td>12/12/2003 0:00</td>\n",
       "      <td>CA</td>\n",
       "      <td>18/10/2016 0:00</td>\n",
       "    </tr>\n",
       "    <tr>\n",
       "      <th>1197</th>\n",
       "      <td>4932</td>\n",
       "      <td>35</td>\n",
       "      <td>ISO-8859-1</td>\n",
       "      <td>NaN</td>\n",
       "      <td>22</td>\n",
       "      <td>6.0</td>\n",
       "      <td>11</td>\n",
       "      <td>5392</td>\n",
       "      <td>41</td>\n",
       "      <td>3</td>\n",
       "      <td>...</td>\n",
       "      <td>23578</td>\n",
       "      <td>35</td>\n",
       "      <td>29</td>\n",
       "      <td>0</td>\n",
       "      <td>B0_359</td>\n",
       "      <td>60</td>\n",
       "      <td>US</td>\n",
       "      <td>28/08/2001 0:00</td>\n",
       "      <td>Illinois</td>\n",
       "      <td>28/04/2015 0:00</td>\n",
       "    </tr>\n",
       "    <tr>\n",
       "      <th>1550</th>\n",
       "      <td>4523</td>\n",
       "      <td>32</td>\n",
       "      <td>UTF-8</td>\n",
       "      <td>15187.0</td>\n",
       "      <td>22</td>\n",
       "      <td>6.0</td>\n",
       "      <td>13</td>\n",
       "      <td>4979</td>\n",
       "      <td>34</td>\n",
       "      <td>1</td>\n",
       "      <td>...</td>\n",
       "      <td>26400</td>\n",
       "      <td>32</td>\n",
       "      <td>26</td>\n",
       "      <td>0</td>\n",
       "      <td>B0_122</td>\n",
       "      <td>87</td>\n",
       "      <td>US</td>\n",
       "      <td>13/01/2001 0:12</td>\n",
       "      <td>CA</td>\n",
       "      <td>12/12/2015 10:16</td>\n",
       "    </tr>\n",
       "  </tbody>\n",
       "</table>\n",
       "<p>5 rows × 21 columns</p>\n",
       "</div>"
      ],
      "text/plain": [
       "      APP_BYTES  APP_PACKETS     CHARSET  CONTENT_LENGTH  \\\n",
       "3          3812           39  ISO-8859-1           162.0   \n",
       "720        5308           54       utf-8           636.0   \n",
       "943        4677           41       UTF-8             NaN   \n",
       "1197       4932           35  ISO-8859-1             NaN   \n",
       "1550       4523           32       UTF-8         15187.0   \n",
       "\n",
       "      DIST_REMOTE_TCP_PORT  DNS_QUERY_TIMES  NUMBER_SPECIAL_CHARACTERS  \\\n",
       "3                       22              8.0                          6   \n",
       "720                     22              8.0                         10   \n",
       "943                     22              6.0                         10   \n",
       "1197                    22              6.0                         11   \n",
       "1550                    22              6.0                         13   \n",
       "\n",
       "      REMOTE_APP_BYTES  REMOTE_APP_PACKETS  REMOTE_IPS        ...          \\\n",
       "3                 4380                  37           3        ...           \n",
       "720               5902                  51           8        ...           \n",
       "943               5093                  33          11        ...           \n",
       "1197              5392                  41           3        ...           \n",
       "1550              4979                  34           1        ...           \n",
       "\n",
       "     SOURCE_APP_BYTES  SOURCE_APP_PACKETS  TCP_CONVERSATION_EXCHANGE  Type  \\\n",
       "3               18784                  39                         31     0   \n",
       "720             40052                  54                         46     0   \n",
       "943             14310                  41                         35     0   \n",
       "1197            23578                  35                         29     0   \n",
       "1550            26400                  32                         26     0   \n",
       "\n",
       "         URL URL_LENGTH  WHOIS_COUNTRY    WHOIS_REGDATE WHOIS_STATEPRO  \\\n",
       "3     B0_113         17             US   7/10/1997 4:00             AK   \n",
       "720   B0_541         45             US  18/01/1995 0:00             CA   \n",
       "943   B0_435         51             US  12/12/2003 0:00             CA   \n",
       "1197  B0_359         60             US  28/08/2001 0:00       Illinois   \n",
       "1550  B0_122         87             US  13/01/2001 0:12             CA   \n",
       "\n",
       "     WHOIS_UPDATED_DATE  \n",
       "3       12/09/2013 0:45  \n",
       "720     26/08/2015 0:00  \n",
       "943     18/10/2016 0:00  \n",
       "1197    28/04/2015 0:00  \n",
       "1550   12/12/2015 10:16  \n",
       "\n",
       "[5 rows x 21 columns]"
      ]
     },
     "execution_count": 22,
     "metadata": {},
     "output_type": "execute_result"
    }
   ],
   "source": [
    "# Select rows where two colunns are certain values (AND)\n",
    "df.loc[(df['WHOIS_COUNTRY'] == 'US') & (df['DIST_REMOTE_TCP_PORT'] == 22)].head(5)"
   ]
  },
  {
   "cell_type": "code",
   "execution_count": 23,
   "metadata": {
    "slideshow": {
     "slide_type": "fragment"
    }
   },
   "outputs": [
    {
     "data": {
      "text/html": [
       "<div>\n",
       "<style scoped>\n",
       "    .dataframe tbody tr th:only-of-type {\n",
       "        vertical-align: middle;\n",
       "    }\n",
       "\n",
       "    .dataframe tbody tr th {\n",
       "        vertical-align: top;\n",
       "    }\n",
       "\n",
       "    .dataframe thead th {\n",
       "        text-align: right;\n",
       "    }\n",
       "</style>\n",
       "<table border=\"1\" class=\"dataframe\">\n",
       "  <thead>\n",
       "    <tr style=\"text-align: right;\">\n",
       "      <th></th>\n",
       "      <th>APP_BYTES</th>\n",
       "      <th>APP_PACKETS</th>\n",
       "      <th>CHARSET</th>\n",
       "      <th>CONTENT_LENGTH</th>\n",
       "      <th>DIST_REMOTE_TCP_PORT</th>\n",
       "      <th>DNS_QUERY_TIMES</th>\n",
       "      <th>NUMBER_SPECIAL_CHARACTERS</th>\n",
       "      <th>REMOTE_APP_BYTES</th>\n",
       "      <th>REMOTE_APP_PACKETS</th>\n",
       "      <th>REMOTE_IPS</th>\n",
       "      <th>...</th>\n",
       "      <th>SOURCE_APP_BYTES</th>\n",
       "      <th>SOURCE_APP_PACKETS</th>\n",
       "      <th>TCP_CONVERSATION_EXCHANGE</th>\n",
       "      <th>Type</th>\n",
       "      <th>URL</th>\n",
       "      <th>URL_LENGTH</th>\n",
       "      <th>WHOIS_COUNTRY</th>\n",
       "      <th>WHOIS_REGDATE</th>\n",
       "      <th>WHOIS_STATEPRO</th>\n",
       "      <th>WHOIS_UPDATED_DATE</th>\n",
       "    </tr>\n",
       "  </thead>\n",
       "  <tbody>\n",
       "    <tr>\n",
       "      <th>3</th>\n",
       "      <td>3812</td>\n",
       "      <td>39</td>\n",
       "      <td>ISO-8859-1</td>\n",
       "      <td>162.0</td>\n",
       "      <td>22</td>\n",
       "      <td>8.0</td>\n",
       "      <td>6</td>\n",
       "      <td>4380</td>\n",
       "      <td>37</td>\n",
       "      <td>3</td>\n",
       "      <td>...</td>\n",
       "      <td>18784</td>\n",
       "      <td>39</td>\n",
       "      <td>31</td>\n",
       "      <td>0</td>\n",
       "      <td>B0_113</td>\n",
       "      <td>17</td>\n",
       "      <td>US</td>\n",
       "      <td>7/10/1997 4:00</td>\n",
       "      <td>AK</td>\n",
       "      <td>12/09/2013 0:45</td>\n",
       "    </tr>\n",
       "    <tr>\n",
       "      <th>4</th>\n",
       "      <td>4278</td>\n",
       "      <td>61</td>\n",
       "      <td>UTF-8</td>\n",
       "      <td>124140.0</td>\n",
       "      <td>2</td>\n",
       "      <td>4.0</td>\n",
       "      <td>6</td>\n",
       "      <td>4586</td>\n",
       "      <td>62</td>\n",
       "      <td>5</td>\n",
       "      <td>...</td>\n",
       "      <td>129889</td>\n",
       "      <td>61</td>\n",
       "      <td>57</td>\n",
       "      <td>0</td>\n",
       "      <td>B0_403</td>\n",
       "      <td>17</td>\n",
       "      <td>US</td>\n",
       "      <td>12/05/1996 0:00</td>\n",
       "      <td>TX</td>\n",
       "      <td>11/04/2017 0:00</td>\n",
       "    </tr>\n",
       "    <tr>\n",
       "      <th>6</th>\n",
       "      <td>1189</td>\n",
       "      <td>14</td>\n",
       "      <td>iso-8859-1</td>\n",
       "      <td>345.0</td>\n",
       "      <td>0</td>\n",
       "      <td>2.0</td>\n",
       "      <td>6</td>\n",
       "      <td>1327</td>\n",
       "      <td>13</td>\n",
       "      <td>3</td>\n",
       "      <td>...</td>\n",
       "      <td>8559</td>\n",
       "      <td>14</td>\n",
       "      <td>12</td>\n",
       "      <td>0</td>\n",
       "      <td>B0_462</td>\n",
       "      <td>18</td>\n",
       "      <td>US</td>\n",
       "      <td>29/07/2002 0:00</td>\n",
       "      <td>CO</td>\n",
       "      <td>1/07/2016 0:00</td>\n",
       "    </tr>\n",
       "    <tr>\n",
       "      <th>7</th>\n",
       "      <td>0</td>\n",
       "      <td>0</td>\n",
       "      <td>us-ascii</td>\n",
       "      <td>324.0</td>\n",
       "      <td>0</td>\n",
       "      <td>0.0</td>\n",
       "      <td>6</td>\n",
       "      <td>0</td>\n",
       "      <td>0</td>\n",
       "      <td>0</td>\n",
       "      <td>...</td>\n",
       "      <td>0</td>\n",
       "      <td>0</td>\n",
       "      <td>0</td>\n",
       "      <td>0</td>\n",
       "      <td>B0_1128</td>\n",
       "      <td>19</td>\n",
       "      <td>US</td>\n",
       "      <td>18/03/1997 0:00</td>\n",
       "      <td>FL</td>\n",
       "      <td>19/03/2017 0:00</td>\n",
       "    </tr>\n",
       "    <tr>\n",
       "      <th>10</th>\n",
       "      <td>0</td>\n",
       "      <td>0</td>\n",
       "      <td>utf-8</td>\n",
       "      <td>NaN</td>\n",
       "      <td>0</td>\n",
       "      <td>0.0</td>\n",
       "      <td>6</td>\n",
       "      <td>0</td>\n",
       "      <td>0</td>\n",
       "      <td>0</td>\n",
       "      <td>...</td>\n",
       "      <td>0</td>\n",
       "      <td>0</td>\n",
       "      <td>0</td>\n",
       "      <td>0</td>\n",
       "      <td>B0_1013</td>\n",
       "      <td>20</td>\n",
       "      <td>US</td>\n",
       "      <td>14/09/2007 0:00</td>\n",
       "      <td>Kansas</td>\n",
       "      <td>9/09/2015 0:00</td>\n",
       "    </tr>\n",
       "  </tbody>\n",
       "</table>\n",
       "<p>5 rows × 21 columns</p>\n",
       "</div>"
      ],
      "text/plain": [
       "    APP_BYTES  APP_PACKETS     CHARSET  CONTENT_LENGTH  DIST_REMOTE_TCP_PORT  \\\n",
       "3        3812           39  ISO-8859-1           162.0                    22   \n",
       "4        4278           61       UTF-8        124140.0                     2   \n",
       "6        1189           14  iso-8859-1           345.0                     0   \n",
       "7           0            0    us-ascii           324.0                     0   \n",
       "10          0            0       utf-8             NaN                     0   \n",
       "\n",
       "    DNS_QUERY_TIMES  NUMBER_SPECIAL_CHARACTERS  REMOTE_APP_BYTES  \\\n",
       "3               8.0                          6              4380   \n",
       "4               4.0                          6              4586   \n",
       "6               2.0                          6              1327   \n",
       "7               0.0                          6                 0   \n",
       "10              0.0                          6                 0   \n",
       "\n",
       "    REMOTE_APP_PACKETS  REMOTE_IPS        ...         SOURCE_APP_BYTES  \\\n",
       "3                   37           3        ...                    18784   \n",
       "4                   62           5        ...                   129889   \n",
       "6                   13           3        ...                     8559   \n",
       "7                    0           0        ...                        0   \n",
       "10                   0           0        ...                        0   \n",
       "\n",
       "    SOURCE_APP_PACKETS  TCP_CONVERSATION_EXCHANGE  Type      URL URL_LENGTH  \\\n",
       "3                   39                         31     0   B0_113         17   \n",
       "4                   61                         57     0   B0_403         17   \n",
       "6                   14                         12     0   B0_462         18   \n",
       "7                    0                          0     0  B0_1128         19   \n",
       "10                   0                          0     0  B0_1013         20   \n",
       "\n",
       "    WHOIS_COUNTRY    WHOIS_REGDATE WHOIS_STATEPRO WHOIS_UPDATED_DATE  \n",
       "3              US   7/10/1997 4:00             AK    12/09/2013 0:45  \n",
       "4              US  12/05/1996 0:00             TX    11/04/2017 0:00  \n",
       "6              US  29/07/2002 0:00             CO     1/07/2016 0:00  \n",
       "7              US  18/03/1997 0:00             FL    19/03/2017 0:00  \n",
       "10             US  14/09/2007 0:00         Kansas     9/09/2015 0:00  \n",
       "\n",
       "[5 rows x 21 columns]"
      ]
     },
     "execution_count": 23,
     "metadata": {},
     "output_type": "execute_result"
    }
   ],
   "source": [
    "# Select rows where two colunns are certain values (OR)\n",
    "df.loc[(df['WHOIS_COUNTRY'] == 'US') | (df['DIST_REMOTE_TCP_PORT'] == 22)].head(5)"
   ]
  },
  {
   "cell_type": "code",
   "execution_count": 24,
   "metadata": {
    "slideshow": {
     "slide_type": "slide"
    }
   },
   "outputs": [
    {
     "data": {
      "text/plain": [
       "2530.0"
      ]
     },
     "execution_count": 24,
     "metadata": {},
     "output_type": "execute_result"
    }
   ],
   "source": [
    "# Sum of total query times for US traffic\n",
    "df.loc[df['WHOIS_COUNTRY'] == 'US']['DNS_QUERY_TIMES'].sum()"
   ]
  },
  {
   "cell_type": "code",
   "execution_count": 25,
   "metadata": {
    "slideshow": {
     "slide_type": "fragment"
    }
   },
   "outputs": [
    {
     "data": {
      "text/plain": [
       "2.2937443336355394"
      ]
     },
     "execution_count": 25,
     "metadata": {},
     "output_type": "execute_result"
    }
   ],
   "source": [
    "# Average total query times for US traffic\n",
    "us_df = df.loc[df['WHOIS_COUNTRY'] == 'US']\n",
    "us_df['DNS_QUERY_TIMES'].sum() / len(us_df)"
   ]
  },
  {
   "cell_type": "code",
   "execution_count": 26,
   "metadata": {
    "slideshow": {
     "slide_type": "slide"
    }
   },
   "outputs": [
    {
     "data": {
      "text/plain": [
       "0    NONE\n",
       "1    NONE\n",
       "2    NONE\n",
       "3      US\n",
       "4      US\n",
       "Name: WHOIS_COUNTRY, dtype: object"
      ]
     },
     "execution_count": 26,
     "metadata": {},
     "output_type": "execute_result"
    }
   ],
   "source": [
    "# Function mapping, make all values uppercase \n",
    "df['WHOIS_COUNTRY'].map(lambda x: x.upper()).head(5)"
   ]
  },
  {
   "cell_type": "code",
   "execution_count": 27,
   "metadata": {
    "slideshow": {
     "slide_type": "fragment"
    }
   },
   "outputs": [],
   "source": [
    "df['WHOIS_COUNTRY'] = df['WHOIS_COUNTRY'].map(lambda x: x.upper())"
   ]
  },
  {
   "cell_type": "code",
   "execution_count": 28,
   "metadata": {
    "slideshow": {
     "slide_type": "skip"
    }
   },
   "outputs": [
    {
     "name": "stderr",
     "output_type": "stream",
     "text": [
      "/Users/untitled/anaconda3/lib/python3.6/site-packages/ipykernel_launcher.py:2: SettingWithCopyWarning: \n",
      "A value is trying to be set on a copy of a slice from a DataFrame.\n",
      "Try using .loc[row_indexer,col_indexer] = value instead\n",
      "\n",
      "See the caveats in the documentation: http://pandas.pydata.org/pandas-docs/stable/indexing.html#indexing-view-versus-copy\n",
      "  \n"
     ]
    }
   ],
   "source": [
    "# Reassign mapping\n",
    "us_df['WHOIS_STATEPRO'] = us_df['WHOIS_STATEPRO'].map(lambda x: x.upper())"
   ]
  },
  {
   "cell_type": "code",
   "execution_count": 29,
   "metadata": {
    "slideshow": {
     "slide_type": "slide"
    }
   },
   "outputs": [],
   "source": [
    "def check_apache(val):\n",
    "    if not val:\n",
    "        return False\n",
    "    if 'apache' in val.lower():\n",
    "        return True\n",
    "    else:\n",
    "        return False"
   ]
  },
  {
   "cell_type": "code",
   "execution_count": 30,
   "metadata": {
    "slideshow": {
     "slide_type": "fragment"
    }
   },
   "outputs": [
    {
     "data": {
      "text/plain": [
       "643"
      ]
     },
     "execution_count": 30,
     "metadata": {},
     "output_type": "execute_result"
    }
   ],
   "source": [
    "df['SERVER'].map(lambda x: check_apache(x)).sum()"
   ]
  },
  {
   "cell_type": "code",
   "execution_count": 31,
   "metadata": {
    "slideshow": {
     "slide_type": "fragment"
    }
   },
   "outputs": [],
   "source": [
    "df['IS_APACHE'] = df['SERVER'].map(lambda x: check_apache(x))"
   ]
  },
  {
   "cell_type": "code",
   "execution_count": 32,
   "metadata": {
    "slideshow": {
     "slide_type": "slide"
    }
   },
   "outputs": [
    {
     "data": {
      "text/html": [
       "<div>\n",
       "<style scoped>\n",
       "    .dataframe tbody tr th:only-of-type {\n",
       "        vertical-align: middle;\n",
       "    }\n",
       "\n",
       "    .dataframe tbody tr th {\n",
       "        vertical-align: top;\n",
       "    }\n",
       "\n",
       "    .dataframe thead th {\n",
       "        text-align: right;\n",
       "    }\n",
       "</style>\n",
       "<table border=\"1\" class=\"dataframe\">\n",
       "  <thead>\n",
       "    <tr style=\"text-align: right;\">\n",
       "      <th></th>\n",
       "      <th>APP_BYTES</th>\n",
       "      <th>APP_PACKETS</th>\n",
       "      <th>CHARSET</th>\n",
       "      <th>CONTENT_LENGTH</th>\n",
       "      <th>DIST_REMOTE_TCP_PORT</th>\n",
       "      <th>DNS_QUERY_TIMES</th>\n",
       "      <th>NUMBER_SPECIAL_CHARACTERS</th>\n",
       "      <th>REMOTE_APP_BYTES</th>\n",
       "      <th>REMOTE_APP_PACKETS</th>\n",
       "      <th>REMOTE_IPS</th>\n",
       "      <th>...</th>\n",
       "      <th>SOURCE_APP_PACKETS</th>\n",
       "      <th>TCP_CONVERSATION_EXCHANGE</th>\n",
       "      <th>Type</th>\n",
       "      <th>URL</th>\n",
       "      <th>URL_LENGTH</th>\n",
       "      <th>WHOIS_COUNTRY</th>\n",
       "      <th>WHOIS_REGDATE</th>\n",
       "      <th>WHOIS_STATEPRO</th>\n",
       "      <th>WHOIS_UPDATED_DATE</th>\n",
       "      <th>IS_APACHE</th>\n",
       "    </tr>\n",
       "  </thead>\n",
       "  <tbody>\n",
       "    <tr>\n",
       "      <th>0</th>\n",
       "      <td>700</td>\n",
       "      <td>9</td>\n",
       "      <td>iso-8859-1</td>\n",
       "      <td>263.0</td>\n",
       "      <td>0</td>\n",
       "      <td>2.0</td>\n",
       "      <td>7</td>\n",
       "      <td>832</td>\n",
       "      <td>10</td>\n",
       "      <td>2</td>\n",
       "      <td>...</td>\n",
       "      <td>9</td>\n",
       "      <td>7</td>\n",
       "      <td>1</td>\n",
       "      <td>M0_109</td>\n",
       "      <td>16</td>\n",
       "      <td>NONE</td>\n",
       "      <td>10/10/2015 18:21</td>\n",
       "      <td>None</td>\n",
       "      <td>None</td>\n",
       "      <td>False</td>\n",
       "    </tr>\n",
       "    <tr>\n",
       "      <th>1</th>\n",
       "      <td>1230</td>\n",
       "      <td>17</td>\n",
       "      <td>UTF-8</td>\n",
       "      <td>15087.0</td>\n",
       "      <td>7</td>\n",
       "      <td>0.0</td>\n",
       "      <td>6</td>\n",
       "      <td>1230</td>\n",
       "      <td>19</td>\n",
       "      <td>4</td>\n",
       "      <td>...</td>\n",
       "      <td>17</td>\n",
       "      <td>17</td>\n",
       "      <td>0</td>\n",
       "      <td>B0_2314</td>\n",
       "      <td>16</td>\n",
       "      <td>NONE</td>\n",
       "      <td>None</td>\n",
       "      <td>None</td>\n",
       "      <td>None</td>\n",
       "      <td>True</td>\n",
       "    </tr>\n",
       "    <tr>\n",
       "      <th>2</th>\n",
       "      <td>0</td>\n",
       "      <td>0</td>\n",
       "      <td>us-ascii</td>\n",
       "      <td>324.0</td>\n",
       "      <td>0</td>\n",
       "      <td>0.0</td>\n",
       "      <td>6</td>\n",
       "      <td>0</td>\n",
       "      <td>0</td>\n",
       "      <td>0</td>\n",
       "      <td>...</td>\n",
       "      <td>0</td>\n",
       "      <td>0</td>\n",
       "      <td>0</td>\n",
       "      <td>B0_911</td>\n",
       "      <td>16</td>\n",
       "      <td>NONE</td>\n",
       "      <td>None</td>\n",
       "      <td>None</td>\n",
       "      <td>None</td>\n",
       "      <td>False</td>\n",
       "    </tr>\n",
       "    <tr>\n",
       "      <th>3</th>\n",
       "      <td>3812</td>\n",
       "      <td>39</td>\n",
       "      <td>ISO-8859-1</td>\n",
       "      <td>162.0</td>\n",
       "      <td>22</td>\n",
       "      <td>8.0</td>\n",
       "      <td>6</td>\n",
       "      <td>4380</td>\n",
       "      <td>37</td>\n",
       "      <td>3</td>\n",
       "      <td>...</td>\n",
       "      <td>39</td>\n",
       "      <td>31</td>\n",
       "      <td>0</td>\n",
       "      <td>B0_113</td>\n",
       "      <td>17</td>\n",
       "      <td>US</td>\n",
       "      <td>7/10/1997 4:00</td>\n",
       "      <td>AK</td>\n",
       "      <td>12/09/2013 0:45</td>\n",
       "      <td>False</td>\n",
       "    </tr>\n",
       "    <tr>\n",
       "      <th>4</th>\n",
       "      <td>4278</td>\n",
       "      <td>61</td>\n",
       "      <td>UTF-8</td>\n",
       "      <td>124140.0</td>\n",
       "      <td>2</td>\n",
       "      <td>4.0</td>\n",
       "      <td>6</td>\n",
       "      <td>4586</td>\n",
       "      <td>62</td>\n",
       "      <td>5</td>\n",
       "      <td>...</td>\n",
       "      <td>61</td>\n",
       "      <td>57</td>\n",
       "      <td>0</td>\n",
       "      <td>B0_403</td>\n",
       "      <td>17</td>\n",
       "      <td>US</td>\n",
       "      <td>12/05/1996 0:00</td>\n",
       "      <td>TX</td>\n",
       "      <td>11/04/2017 0:00</td>\n",
       "      <td>False</td>\n",
       "    </tr>\n",
       "  </tbody>\n",
       "</table>\n",
       "<p>5 rows × 22 columns</p>\n",
       "</div>"
      ],
      "text/plain": [
       "   APP_BYTES  APP_PACKETS     CHARSET  CONTENT_LENGTH  DIST_REMOTE_TCP_PORT  \\\n",
       "0        700            9  iso-8859-1           263.0                     0   \n",
       "1       1230           17       UTF-8         15087.0                     7   \n",
       "2          0            0    us-ascii           324.0                     0   \n",
       "3       3812           39  ISO-8859-1           162.0                    22   \n",
       "4       4278           61       UTF-8        124140.0                     2   \n",
       "\n",
       "   DNS_QUERY_TIMES  NUMBER_SPECIAL_CHARACTERS  REMOTE_APP_BYTES  \\\n",
       "0              2.0                          7               832   \n",
       "1              0.0                          6              1230   \n",
       "2              0.0                          6                 0   \n",
       "3              8.0                          6              4380   \n",
       "4              4.0                          6              4586   \n",
       "\n",
       "   REMOTE_APP_PACKETS  REMOTE_IPS    ...    SOURCE_APP_PACKETS  \\\n",
       "0                  10           2    ...                     9   \n",
       "1                  19           4    ...                    17   \n",
       "2                   0           0    ...                     0   \n",
       "3                  37           3    ...                    39   \n",
       "4                  62           5    ...                    61   \n",
       "\n",
       "   TCP_CONVERSATION_EXCHANGE  Type      URL  URL_LENGTH WHOIS_COUNTRY  \\\n",
       "0                          7     1   M0_109          16          NONE   \n",
       "1                         17     0  B0_2314          16          NONE   \n",
       "2                          0     0   B0_911          16          NONE   \n",
       "3                         31     0   B0_113          17            US   \n",
       "4                         57     0   B0_403          17            US   \n",
       "\n",
       "      WHOIS_REGDATE WHOIS_STATEPRO WHOIS_UPDATED_DATE IS_APACHE  \n",
       "0  10/10/2015 18:21           None               None     False  \n",
       "1              None           None               None      True  \n",
       "2              None           None               None     False  \n",
       "3    7/10/1997 4:00             AK    12/09/2013 0:45     False  \n",
       "4   12/05/1996 0:00             TX    11/04/2017 0:00     False  \n",
       "\n",
       "[5 rows x 22 columns]"
      ]
     },
     "execution_count": 32,
     "metadata": {},
     "output_type": "execute_result"
    }
   ],
   "source": [
    "# Select the values where WHOIS_COUNTRY is not null\n",
    "df[df['WHOIS_COUNTRY'].notnull()].head(5)"
   ]
  },
  {
   "cell_type": "markdown",
   "metadata": {
    "slideshow": {
     "slide_type": "slide"
    }
   },
   "source": [
    "### Data Aggregation, Group Operations, and Pivots"
   ]
  },
  {
   "cell_type": "code",
   "execution_count": 33,
   "metadata": {
    "slideshow": {
     "slide_type": "skip"
    }
   },
   "outputs": [
    {
     "data": {
      "text/html": [
       "<div>\n",
       "<style scoped>\n",
       "    .dataframe tbody tr th:only-of-type {\n",
       "        vertical-align: middle;\n",
       "    }\n",
       "\n",
       "    .dataframe tbody tr th {\n",
       "        vertical-align: top;\n",
       "    }\n",
       "\n",
       "    .dataframe thead tr th {\n",
       "        text-align: left;\n",
       "    }\n",
       "\n",
       "    .dataframe thead tr:last-of-type th {\n",
       "        text-align: right;\n",
       "    }\n",
       "</style>\n",
       "<table border=\"1\" class=\"dataframe\">\n",
       "  <thead>\n",
       "    <tr>\n",
       "      <th></th>\n",
       "      <th>APP_BYTES</th>\n",
       "      <th>APP_PACKETS</th>\n",
       "      <th>CHARSET</th>\n",
       "      <th>CONTENT_LENGTH</th>\n",
       "      <th>DIST_REMOTE_TCP_PORT</th>\n",
       "      <th>DNS_QUERY_TIMES</th>\n",
       "      <th>NUMBER_SPECIAL_CHARACTERS</th>\n",
       "      <th>REMOTE_APP_BYTES</th>\n",
       "      <th>REMOTE_APP_PACKETS</th>\n",
       "      <th>REMOTE_IPS</th>\n",
       "      <th>...</th>\n",
       "      <th>SOURCE_APP_BYTES</th>\n",
       "      <th>SOURCE_APP_PACKETS</th>\n",
       "      <th>TCP_CONVERSATION_EXCHANGE</th>\n",
       "      <th>Type</th>\n",
       "      <th>URL</th>\n",
       "      <th>URL_LENGTH</th>\n",
       "      <th>WHOIS_REGDATE</th>\n",
       "      <th>WHOIS_STATEPRO</th>\n",
       "      <th>WHOIS_UPDATED_DATE</th>\n",
       "      <th>IS_APACHE</th>\n",
       "    </tr>\n",
       "    <tr>\n",
       "      <th></th>\n",
       "      <th>count</th>\n",
       "      <th>count</th>\n",
       "      <th>count</th>\n",
       "      <th>count</th>\n",
       "      <th>count</th>\n",
       "      <th>count</th>\n",
       "      <th>count</th>\n",
       "      <th>count</th>\n",
       "      <th>count</th>\n",
       "      <th>count</th>\n",
       "      <th>...</th>\n",
       "      <th>count</th>\n",
       "      <th>count</th>\n",
       "      <th>count</th>\n",
       "      <th>count</th>\n",
       "      <th>count</th>\n",
       "      <th>count</th>\n",
       "      <th>count</th>\n",
       "      <th>count</th>\n",
       "      <th>count</th>\n",
       "      <th>count</th>\n",
       "    </tr>\n",
       "    <tr>\n",
       "      <th>WHOIS_COUNTRY</th>\n",
       "      <th></th>\n",
       "      <th></th>\n",
       "      <th></th>\n",
       "      <th></th>\n",
       "      <th></th>\n",
       "      <th></th>\n",
       "      <th></th>\n",
       "      <th></th>\n",
       "      <th></th>\n",
       "      <th></th>\n",
       "      <th></th>\n",
       "      <th></th>\n",
       "      <th></th>\n",
       "      <th></th>\n",
       "      <th></th>\n",
       "      <th></th>\n",
       "      <th></th>\n",
       "      <th></th>\n",
       "      <th></th>\n",
       "      <th></th>\n",
       "      <th></th>\n",
       "    </tr>\n",
       "  </thead>\n",
       "  <tbody>\n",
       "    <tr>\n",
       "      <th>AE</th>\n",
       "      <td>1</td>\n",
       "      <td>1</td>\n",
       "      <td>1</td>\n",
       "      <td>1</td>\n",
       "      <td>1</td>\n",
       "      <td>1</td>\n",
       "      <td>1</td>\n",
       "      <td>1</td>\n",
       "      <td>1</td>\n",
       "      <td>1</td>\n",
       "      <td>...</td>\n",
       "      <td>1</td>\n",
       "      <td>1</td>\n",
       "      <td>1</td>\n",
       "      <td>1</td>\n",
       "      <td>1</td>\n",
       "      <td>1</td>\n",
       "      <td>1</td>\n",
       "      <td>1</td>\n",
       "      <td>1</td>\n",
       "      <td>1</td>\n",
       "    </tr>\n",
       "    <tr>\n",
       "      <th>AT</th>\n",
       "      <td>4</td>\n",
       "      <td>4</td>\n",
       "      <td>4</td>\n",
       "      <td>4</td>\n",
       "      <td>4</td>\n",
       "      <td>4</td>\n",
       "      <td>4</td>\n",
       "      <td>4</td>\n",
       "      <td>4</td>\n",
       "      <td>4</td>\n",
       "      <td>...</td>\n",
       "      <td>4</td>\n",
       "      <td>4</td>\n",
       "      <td>4</td>\n",
       "      <td>4</td>\n",
       "      <td>4</td>\n",
       "      <td>4</td>\n",
       "      <td>4</td>\n",
       "      <td>4</td>\n",
       "      <td>4</td>\n",
       "      <td>4</td>\n",
       "    </tr>\n",
       "    <tr>\n",
       "      <th>AU</th>\n",
       "      <td>35</td>\n",
       "      <td>35</td>\n",
       "      <td>35</td>\n",
       "      <td>16</td>\n",
       "      <td>35</td>\n",
       "      <td>35</td>\n",
       "      <td>35</td>\n",
       "      <td>35</td>\n",
       "      <td>35</td>\n",
       "      <td>35</td>\n",
       "      <td>...</td>\n",
       "      <td>35</td>\n",
       "      <td>35</td>\n",
       "      <td>35</td>\n",
       "      <td>35</td>\n",
       "      <td>35</td>\n",
       "      <td>35</td>\n",
       "      <td>35</td>\n",
       "      <td>35</td>\n",
       "      <td>35</td>\n",
       "      <td>35</td>\n",
       "    </tr>\n",
       "    <tr>\n",
       "      <th>BE</th>\n",
       "      <td>3</td>\n",
       "      <td>3</td>\n",
       "      <td>3</td>\n",
       "      <td>2</td>\n",
       "      <td>3</td>\n",
       "      <td>3</td>\n",
       "      <td>3</td>\n",
       "      <td>3</td>\n",
       "      <td>3</td>\n",
       "      <td>3</td>\n",
       "      <td>...</td>\n",
       "      <td>3</td>\n",
       "      <td>3</td>\n",
       "      <td>3</td>\n",
       "      <td>3</td>\n",
       "      <td>3</td>\n",
       "      <td>3</td>\n",
       "      <td>3</td>\n",
       "      <td>3</td>\n",
       "      <td>3</td>\n",
       "      <td>3</td>\n",
       "    </tr>\n",
       "    <tr>\n",
       "      <th>BR</th>\n",
       "      <td>2</td>\n",
       "      <td>2</td>\n",
       "      <td>2</td>\n",
       "      <td>2</td>\n",
       "      <td>2</td>\n",
       "      <td>2</td>\n",
       "      <td>2</td>\n",
       "      <td>2</td>\n",
       "      <td>2</td>\n",
       "      <td>2</td>\n",
       "      <td>...</td>\n",
       "      <td>2</td>\n",
       "      <td>2</td>\n",
       "      <td>2</td>\n",
       "      <td>2</td>\n",
       "      <td>2</td>\n",
       "      <td>2</td>\n",
       "      <td>2</td>\n",
       "      <td>2</td>\n",
       "      <td>2</td>\n",
       "      <td>2</td>\n",
       "    </tr>\n",
       "  </tbody>\n",
       "</table>\n",
       "<p>5 rows × 21 columns</p>\n",
       "</div>"
      ],
      "text/plain": [
       "              APP_BYTES APP_PACKETS CHARSET CONTENT_LENGTH  \\\n",
       "                  count       count   count          count   \n",
       "WHOIS_COUNTRY                                                \n",
       "AE                    1           1       1              1   \n",
       "AT                    4           4       4              4   \n",
       "AU                   35          35      35             16   \n",
       "BE                    3           3       3              2   \n",
       "BR                    2           2       2              2   \n",
       "\n",
       "              DIST_REMOTE_TCP_PORT DNS_QUERY_TIMES NUMBER_SPECIAL_CHARACTERS  \\\n",
       "                             count           count                     count   \n",
       "WHOIS_COUNTRY                                                                  \n",
       "AE                               1               1                         1   \n",
       "AT                               4               4                         4   \n",
       "AU                              35              35                        35   \n",
       "BE                               3               3                         3   \n",
       "BR                               2               2                         2   \n",
       "\n",
       "              REMOTE_APP_BYTES REMOTE_APP_PACKETS REMOTE_IPS    ...     \\\n",
       "                         count              count      count    ...      \n",
       "WHOIS_COUNTRY                                                   ...      \n",
       "AE                           1                  1          1    ...      \n",
       "AT                           4                  4          4    ...      \n",
       "AU                          35                 35         35    ...      \n",
       "BE                           3                  3          3    ...      \n",
       "BR                           2                  2          2    ...      \n",
       "\n",
       "              SOURCE_APP_BYTES SOURCE_APP_PACKETS TCP_CONVERSATION_EXCHANGE  \\\n",
       "                         count              count                     count   \n",
       "WHOIS_COUNTRY                                                                 \n",
       "AE                           1                  1                         1   \n",
       "AT                           4                  4                         4   \n",
       "AU                          35                 35                        35   \n",
       "BE                           3                  3                         3   \n",
       "BR                           2                  2                         2   \n",
       "\n",
       "               Type   URL URL_LENGTH WHOIS_REGDATE WHOIS_STATEPRO  \\\n",
       "              count count      count         count          count   \n",
       "WHOIS_COUNTRY                                                       \n",
       "AE                1     1          1             1              1   \n",
       "AT                4     4          4             4              4   \n",
       "AU               35    35         35            35             35   \n",
       "BE                3     3          3             3              3   \n",
       "BR                2     2          2             2              2   \n",
       "\n",
       "              WHOIS_UPDATED_DATE IS_APACHE  \n",
       "                           count     count  \n",
       "WHOIS_COUNTRY                               \n",
       "AE                             1         1  \n",
       "AT                             4         4  \n",
       "AU                            35        35  \n",
       "BE                             3         3  \n",
       "BR                             2         2  \n",
       "\n",
       "[5 rows x 21 columns]"
      ]
     },
     "execution_count": 33,
     "metadata": {},
     "output_type": "execute_result"
    }
   ],
   "source": [
    "df.groupby('WHOIS_COUNTRY').agg(['count']).head()"
   ]
  },
  {
   "cell_type": "code",
   "execution_count": 34,
   "metadata": {
    "slideshow": {
     "slide_type": "fragment"
    }
   },
   "outputs": [
    {
     "data": {
      "text/html": [
       "<div>\n",
       "<style scoped>\n",
       "    .dataframe tbody tr th:only-of-type {\n",
       "        vertical-align: middle;\n",
       "    }\n",
       "\n",
       "    .dataframe tbody tr th {\n",
       "        vertical-align: top;\n",
       "    }\n",
       "\n",
       "    .dataframe thead th {\n",
       "        text-align: right;\n",
       "    }\n",
       "</style>\n",
       "<table border=\"1\" class=\"dataframe\">\n",
       "  <thead>\n",
       "    <tr style=\"text-align: right;\">\n",
       "      <th></th>\n",
       "      <th>WHOIS_COUNTRY</th>\n",
       "      <th>IS_APACHE</th>\n",
       "      <th>counts</th>\n",
       "    </tr>\n",
       "  </thead>\n",
       "  <tbody>\n",
       "    <tr>\n",
       "      <th>0</th>\n",
       "      <td>AE</td>\n",
       "      <td>True</td>\n",
       "      <td>1</td>\n",
       "    </tr>\n",
       "    <tr>\n",
       "      <th>1</th>\n",
       "      <td>AT</td>\n",
       "      <td>True</td>\n",
       "      <td>4</td>\n",
       "    </tr>\n",
       "    <tr>\n",
       "      <th>2</th>\n",
       "      <td>AU</td>\n",
       "      <td>False</td>\n",
       "      <td>10</td>\n",
       "    </tr>\n",
       "    <tr>\n",
       "      <th>3</th>\n",
       "      <td>AU</td>\n",
       "      <td>True</td>\n",
       "      <td>25</td>\n",
       "    </tr>\n",
       "    <tr>\n",
       "      <th>4</th>\n",
       "      <td>BE</td>\n",
       "      <td>True</td>\n",
       "      <td>3</td>\n",
       "    </tr>\n",
       "  </tbody>\n",
       "</table>\n",
       "</div>"
      ],
      "text/plain": [
       "  WHOIS_COUNTRY  IS_APACHE  counts\n",
       "0            AE       True       1\n",
       "1            AT       True       4\n",
       "2            AU      False      10\n",
       "3            AU       True      25\n",
       "4            BE       True       3"
      ]
     },
     "execution_count": 34,
     "metadata": {},
     "output_type": "execute_result"
    }
   ],
   "source": [
    "df.groupby(['WHOIS_COUNTRY', 'IS_APACHE']).size().reset_index(name='counts').head(5)\n"
   ]
  },
  {
   "cell_type": "code",
   "execution_count": 35,
   "metadata": {
    "slideshow": {
     "slide_type": "slide"
    }
   },
   "outputs": [],
   "source": [
    "g = df.groupby(['WHOIS_COUNTRY', 'IS_APACHE']).size().reset_index(name='counts')"
   ]
  },
  {
   "cell_type": "code",
   "execution_count": 36,
   "metadata": {
    "slideshow": {
     "slide_type": "fragment"
    }
   },
   "outputs": [
    {
     "data": {
      "text/html": [
       "<div>\n",
       "<style scoped>\n",
       "    .dataframe tbody tr th:only-of-type {\n",
       "        vertical-align: middle;\n",
       "    }\n",
       "\n",
       "    .dataframe tbody tr th {\n",
       "        vertical-align: top;\n",
       "    }\n",
       "\n",
       "    .dataframe thead tr th {\n",
       "        text-align: left;\n",
       "    }\n",
       "\n",
       "    .dataframe thead tr:last-of-type th {\n",
       "        text-align: right;\n",
       "    }\n",
       "</style>\n",
       "<table border=\"1\" class=\"dataframe\">\n",
       "  <thead>\n",
       "    <tr>\n",
       "      <th></th>\n",
       "      <th colspan=\"2\" halign=\"left\">counts</th>\n",
       "    </tr>\n",
       "    <tr>\n",
       "      <th>IS_APACHE</th>\n",
       "      <th>False</th>\n",
       "      <th>True</th>\n",
       "    </tr>\n",
       "    <tr>\n",
       "      <th>WHOIS_COUNTRY</th>\n",
       "      <th></th>\n",
       "      <th></th>\n",
       "    </tr>\n",
       "  </thead>\n",
       "  <tbody>\n",
       "    <tr>\n",
       "      <th>AE</th>\n",
       "      <td>0.0</td>\n",
       "      <td>1.0</td>\n",
       "    </tr>\n",
       "    <tr>\n",
       "      <th>AT</th>\n",
       "      <td>0.0</td>\n",
       "      <td>4.0</td>\n",
       "    </tr>\n",
       "    <tr>\n",
       "      <th>AU</th>\n",
       "      <td>10.0</td>\n",
       "      <td>25.0</td>\n",
       "    </tr>\n",
       "    <tr>\n",
       "      <th>BE</th>\n",
       "      <td>0.0</td>\n",
       "      <td>3.0</td>\n",
       "    </tr>\n",
       "    <tr>\n",
       "      <th>BR</th>\n",
       "      <td>2.0</td>\n",
       "      <td>0.0</td>\n",
       "    </tr>\n",
       "  </tbody>\n",
       "</table>\n",
       "</div>"
      ],
      "text/plain": [
       "              counts      \n",
       "IS_APACHE      False True \n",
       "WHOIS_COUNTRY             \n",
       "AE               0.0   1.0\n",
       "AT               0.0   4.0\n",
       "AU              10.0  25.0\n",
       "BE               0.0   3.0\n",
       "BR               2.0   0.0"
      ]
     },
     "execution_count": 36,
     "metadata": {},
     "output_type": "execute_result"
    }
   ],
   "source": [
    "g.pivot(index='WHOIS_COUNTRY', columns='IS_APACHE').fillna(0.0).head(5)"
   ]
  },
  {
   "cell_type": "code",
   "execution_count": 37,
   "metadata": {
    "slideshow": {
     "slide_type": "slide"
    }
   },
   "outputs": [],
   "source": [
    "pivot = g.pivot(index='WHOIS_COUNTRY', columns='IS_APACHE').fillna(0.0)"
   ]
  },
  {
   "cell_type": "code",
   "execution_count": 38,
   "metadata": {
    "slideshow": {
     "slide_type": "fragment"
    }
   },
   "outputs": [
    {
     "data": {
      "text/html": [
       "<div>\n",
       "<style scoped>\n",
       "    .dataframe tbody tr th:only-of-type {\n",
       "        vertical-align: middle;\n",
       "    }\n",
       "\n",
       "    .dataframe tbody tr th {\n",
       "        vertical-align: top;\n",
       "    }\n",
       "\n",
       "    .dataframe thead tr th {\n",
       "        text-align: left;\n",
       "    }\n",
       "\n",
       "    .dataframe thead tr:last-of-type th {\n",
       "        text-align: right;\n",
       "    }\n",
       "</style>\n",
       "<table border=\"1\" class=\"dataframe\">\n",
       "  <thead>\n",
       "    <tr>\n",
       "      <th></th>\n",
       "      <th colspan=\"2\" halign=\"left\">counts</th>\n",
       "    </tr>\n",
       "    <tr>\n",
       "      <th>IS_APACHE</th>\n",
       "      <th>False</th>\n",
       "      <th>True</th>\n",
       "    </tr>\n",
       "    <tr>\n",
       "      <th>WHOIS_COUNTRY</th>\n",
       "      <th></th>\n",
       "      <th></th>\n",
       "    </tr>\n",
       "  </thead>\n",
       "  <tbody>\n",
       "    <tr>\n",
       "      <th>AE</th>\n",
       "      <td>0.000000</td>\n",
       "      <td>1.000000</td>\n",
       "    </tr>\n",
       "    <tr>\n",
       "      <th>AT</th>\n",
       "      <td>0.000000</td>\n",
       "      <td>1.000000</td>\n",
       "    </tr>\n",
       "    <tr>\n",
       "      <th>AU</th>\n",
       "      <td>0.285714</td>\n",
       "      <td>0.714286</td>\n",
       "    </tr>\n",
       "    <tr>\n",
       "      <th>BE</th>\n",
       "      <td>0.000000</td>\n",
       "      <td>1.000000</td>\n",
       "    </tr>\n",
       "    <tr>\n",
       "      <th>BR</th>\n",
       "      <td>1.000000</td>\n",
       "      <td>0.000000</td>\n",
       "    </tr>\n",
       "  </tbody>\n",
       "</table>\n",
       "</div>"
      ],
      "text/plain": [
       "                 counts          \n",
       "IS_APACHE         False     True \n",
       "WHOIS_COUNTRY                    \n",
       "AE             0.000000  1.000000\n",
       "AT             0.000000  1.000000\n",
       "AU             0.285714  0.714286\n",
       "BE             0.000000  1.000000\n",
       "BR             1.000000  0.000000"
      ]
     },
     "execution_count": 38,
     "metadata": {},
     "output_type": "execute_result"
    }
   ],
   "source": [
    "pivot.div(pivot.sum(axis=1), axis=0).head(5)"
   ]
  },
  {
   "cell_type": "code",
   "execution_count": 39,
   "metadata": {
    "slideshow": {
     "slide_type": "fragment"
    }
   },
   "outputs": [],
   "source": [
    "pivot_perc = pivot.div(pivot.sum(axis=1), axis=0)"
   ]
  },
  {
   "cell_type": "markdown",
   "metadata": {
    "slideshow": {
     "slide_type": "slide"
    }
   },
   "source": [
    "## Matplotlib"
   ]
  },
  {
   "cell_type": "markdown",
   "metadata": {
    "slideshow": {
     "slide_type": "fragment"
    }
   },
   "source": [
    "> matplotlib is a plotting library for the Python programming language and its numerical mathematics extension NumPy. It provides an object-oriented API for embedding plots into applications using general-purpose GUI toolkits like Tkinter, wxPython, Qt, or GTK+"
   ]
  },
  {
   "cell_type": "code",
   "execution_count": 40,
   "metadata": {
    "slideshow": {
     "slide_type": "fragment"
    }
   },
   "outputs": [],
   "source": [
    "import matplotlib.pyplot as plt\n",
    "import matplotlib"
   ]
  },
  {
   "cell_type": "code",
   "execution_count": 41,
   "metadata": {
    "slideshow": {
     "slide_type": "skip"
    }
   },
   "outputs": [
    {
     "data": {
      "text/plain": [
       "['APP_BYTES',\n",
       " 'APP_PACKETS',\n",
       " 'CHARSET',\n",
       " 'CONTENT_LENGTH',\n",
       " 'DIST_REMOTE_TCP_PORT',\n",
       " 'DNS_QUERY_TIMES',\n",
       " 'NUMBER_SPECIAL_CHARACTERS',\n",
       " 'REMOTE_APP_BYTES',\n",
       " 'REMOTE_APP_PACKETS',\n",
       " 'REMOTE_IPS',\n",
       " 'SERVER',\n",
       " 'SOURCE_APP_BYTES',\n",
       " 'SOURCE_APP_PACKETS',\n",
       " 'TCP_CONVERSATION_EXCHANGE',\n",
       " 'Type',\n",
       " 'URL',\n",
       " 'URL_LENGTH',\n",
       " 'WHOIS_COUNTRY',\n",
       " 'WHOIS_REGDATE',\n",
       " 'WHOIS_STATEPRO',\n",
       " 'WHOIS_UPDATED_DATE',\n",
       " 'IS_APACHE']"
      ]
     },
     "execution_count": 41,
     "metadata": {},
     "output_type": "execute_result"
    }
   ],
   "source": [
    "list(df)"
   ]
  },
  {
   "cell_type": "code",
   "execution_count": 42,
   "metadata": {
    "slideshow": {
     "slide_type": "slide"
    }
   },
   "outputs": [
    {
     "data": {
      "image/png": "[encoded data removed]",
      "text/plain": [
       "<Figure size 1440x720 with 1 Axes>"
      ]
     },
     "metadata": {},
     "output_type": "display_data"
    }
   ],
   "source": [
    "# Country plots \n",
    "df['WHOIS_COUNTRY'].value_counts().plot(kind='bar', figsize=(20,10), color='b')\n",
    "plt.show()"
   ]
  },
  {
   "cell_type": "code",
   "execution_count": 43,
   "metadata": {
    "slideshow": {
     "slide_type": "slide"
    }
   },
   "outputs": [
    {
     "data": {
      "image/png": "[encoded data removed]",
      "text/plain": [
       "<Figure size 1440x720 with 1 Axes>"
      ]
     },
     "metadata": {},
     "output_type": "display_data"
    }
   ],
   "source": [
    "# Plot horizontally\n",
    "df['WHOIS_COUNTRY'].value_counts().plot(kind='barh', figsize=(20,10), color='b')\n",
    "plt.show()"
   ]
  },
  {
   "cell_type": "code",
   "execution_count": 51,
   "metadata": {
    "slideshow": {
     "slide_type": "slide"
    }
   },
   "outputs": [
    {
     "data": {
      "text/plain": [
       "Text(0.5,0,'Percentage')"
      ]
     },
     "execution_count": 51,
     "metadata": {},
     "output_type": "execute_result"
    },
    {
     "data": {
      "image/png": "[encoded data removed]",
      "text/plain": [
       "<Figure size 1080x1080 with 1 Axes>"
      ]
     },
     "metadata": {},
     "output_type": "display_data"
    }
   ],
   "source": [
    "# Plot pivot and set labels\n",
    "ax = pivot_perc.plot(kind='barh', stacked=True, figsize=(15,15))\n",
    "ax.set_title('Percentage Apache per Country')\n",
    "ax.set_xlabel('Percentage')"
   ]
  },
  {
   "cell_type": "code",
   "execution_count": 45,
   "metadata": {
    "slideshow": {
     "slide_type": "skip"
    }
   },
   "outputs": [
    {
     "data": {
      "text/plain": [
       "['APP_BYTES',\n",
       " 'APP_PACKETS',\n",
       " 'CHARSET',\n",
       " 'CONTENT_LENGTH',\n",
       " 'DIST_REMOTE_TCP_PORT',\n",
       " 'DNS_QUERY_TIMES',\n",
       " 'NUMBER_SPECIAL_CHARACTERS',\n",
       " 'REMOTE_APP_BYTES',\n",
       " 'REMOTE_APP_PACKETS',\n",
       " 'REMOTE_IPS',\n",
       " 'SERVER',\n",
       " 'SOURCE_APP_BYTES',\n",
       " 'SOURCE_APP_PACKETS',\n",
       " 'TCP_CONVERSATION_EXCHANGE',\n",
       " 'Type',\n",
       " 'URL',\n",
       " 'URL_LENGTH',\n",
       " 'WHOIS_COUNTRY',\n",
       " 'WHOIS_REGDATE',\n",
       " 'WHOIS_STATEPRO',\n",
       " 'WHOIS_UPDATED_DATE',\n",
       " 'IS_APACHE']"
      ]
     },
     "execution_count": 45,
     "metadata": {},
     "output_type": "execute_result"
    }
   ],
   "source": [
    "list(df)"
   ]
  },
  {
   "cell_type": "code",
   "execution_count": 46,
   "metadata": {
    "slideshow": {
     "slide_type": "slide"
    }
   },
   "outputs": [
    {
     "data": {
      "text/plain": [
       "array([[<matplotlib.axes._subplots.AxesSubplot object at 0x121d17710>,\n",
       "        <matplotlib.axes._subplots.AxesSubplot object at 0x1219442e8>,\n",
       "        <matplotlib.axes._subplots.AxesSubplot object at 0x1218bdbe0>],\n",
       "       [<matplotlib.axes._subplots.AxesSubplot object at 0x12158dba8>,\n",
       "        <matplotlib.axes._subplots.AxesSubplot object at 0x1210fc4e0>,\n",
       "        <matplotlib.axes._subplots.AxesSubplot object at 0x1210fcf60>],\n",
       "       [<matplotlib.axes._subplots.AxesSubplot object at 0x121035f60>,\n",
       "        <matplotlib.axes._subplots.AxesSubplot object at 0x121982048>,\n",
       "        <matplotlib.axes._subplots.AxesSubplot object at 0x1210386d8>]],\n",
       "      dtype=object)"
      ]
     },
     "execution_count": 46,
     "metadata": {},
     "output_type": "execute_result"
    },
    {
     "data": {
      "image/png": "[encoded data removed]",
      "text/plain": [
       "<Figure size 720x720 with 9 Axes>"
      ]
     },
     "metadata": {},
     "output_type": "display_data"
    }
   ],
   "source": [
    "df[[\n",
    "    'APP_BYTES',\n",
    "    'APP_PACKETS',\n",
    "    'CONTENT_LENGTH',\n",
    "    'DNS_QUERY_TIMES',\n",
    "    'URL_LENGTH',\n",
    "    'REMOTE_IPS'\n",
    "]].plot(kind='density', subplots=True, layout=(3,3), sharex=False, figsize=(10,10))"
   ]
  },
  {
   "cell_type": "markdown",
   "metadata": {
    "slideshow": {
     "slide_type": "slide"
    }
   },
   "source": [
    "## Seaborn"
   ]
  },
  {
   "cell_type": "markdown",
   "metadata": {
    "slideshow": {
     "slide_type": "fragment"
    }
   },
   "source": [
    "> Seaborn is a Python data visualization library based on matplotlib. It provides a high-level interface for drawing attractive and informative statistical graphics."
   ]
  },
  {
   "cell_type": "code",
   "execution_count": 48,
   "metadata": {
    "slideshow": {
     "slide_type": "slide"
    }
   },
   "outputs": [
    {
     "data": {
      "image/png": "[encoded data removed]",
      "text/plain": [
       "<Figure size 1800x1080 with 1 Axes>"
      ]
     },
     "metadata": {},
     "output_type": "display_data"
    },
    {
     "data": {
      "text/plain": [
       "<Figure size 360x360 with 0 Axes>"
      ]
     },
     "metadata": {},
     "output_type": "display_data"
    }
   ],
   "source": [
    "import seaborn as sns\n",
    "fig, ax = plt.subplots(1,1,figsize=(25,15))\n",
    "sns.catplot(x=\"WHOIS_COUNTRY\", y=\"REMOTE_IPS\", data=df, ax=ax)\n",
    "# Clears the plot\n",
    "plt.clf()"
   ]
  },
  {
   "cell_type": "code",
   "execution_count": null,
   "metadata": {
    "slideshow": {
     "slide_type": "slide"
    }
   },
   "outputs": [],
   "source": [
    "correlation = df[['APP_BYTES', 'CONTENT_LENGTH', 'APP_PACKETS']].corr(method='pearson')"
   ]
  },
  {
   "cell_type": "code",
   "execution_count": null,
   "metadata": {
    "slideshow": {
     "slide_type": "slide"
    }
   },
   "outputs": [],
   "source": [
    "correlation"
   ]
  },
  {
   "cell_type": "code",
   "execution_count": 50,
   "metadata": {
    "slideshow": {
     "slide_type": "fragment"
    }
   },
   "outputs": [
    {
     "data": {
      "text/plain": [
       "<matplotlib.axes._subplots.AxesSubplot at 0x121da9fd0>"
      ]
     },
     "execution_count": 50,
     "metadata": {},
     "output_type": "execute_result"
    },
    {
     "data": {
      "image/png": "[encoded data removed]",
      "text/plain": [
       "<Figure size 432x288 with 2 Axes>"
      ]
     },
     "metadata": {},
     "output_type": "display_data"
    }
   ],
   "source": [
    "sns.heatmap(correlation)"
   ]
  },
  {
   "cell_type": "markdown",
   "metadata": {
    "slideshow": {
     "slide_type": "slide"
    }
   },
   "source": [
    "## Resources\n",
    "* https://github.com/wesm/pydata-book\n",
    "* https://pandas.pydata.org/\n",
    "* http://jupyter.org/index.html\n",
    "* https://matplotlib.org/\n",
    "* https://seaborn.pydata.org/index.html"
   ]
  },
  {
   "cell_type": "code",
   "execution_count": 6,
   "metadata": {},
   "outputs": [],
   "source": [
    "x = 7\n",
    "x = x+3"
   ]
  },
  {
   "cell_type": "code",
   "execution_count": 7,
   "metadata": {},
   "outputs": [
    {
     "data": {
      "text/plain": [
       "10"
      ]
     },
     "execution_count": 7,
     "metadata": {},
     "output_type": "execute_result"
    }
   ],
   "source": [
    "x"
   ]
  },
  {
   "cell_type": "code",
   "execution_count": 8,
   "metadata": {},
   "outputs": [],
   "source": [
    "x = 3\n",
    "y = x\n",
    "x = 10"
   ]
  },
  {
   "cell_type": "code",
   "execution_count": 9,
   "metadata": {},
   "outputs": [
    {
     "data": {
      "text/plain": [
       "3"
      ]
     },
     "execution_count": 9,
     "metadata": {},
     "output_type": "execute_result"
    }
   ],
   "source": [
    "y"
   ]
  },
  {
   "cell_type": "code",
   "execution_count": null,
   "metadata": {},
   "outputs": [],
   "source": []
  }
 ],
 "metadata": {
  "celltoolbar": "Slideshow",
  "kernelspec": {
   "display_name": "Python 2",
   "language": "python",
   "name": "python2"
  },
  "language_info": {
   "codemirror_mode": {
    "name": "ipython",
    "version": 3
   },
   "file_extension": ".py",
   "mimetype": "text/x-python",
   "name": "python",
   "nbconvert_exporter": "python",
   "pygments_lexer": "ipython3",
   "version": "3.6.7"
  }
 },
 "nbformat": 4,
 "nbformat_minor": 2
}
